{
 "cells": [
  {
   "cell_type": "markdown",
   "metadata": {},
   "source": [
    "## Building a Classifier"
   ]
  },
  {
   "cell_type": "markdown",
   "metadata": {
    "colab_type": "text",
    "id": "VvfOR5Qr3yDZ"
   },
   "source": [
    "#### Let's embed the data for the tag \"input_output\""
   ]
  },
  {
   "cell_type": "code",
   "execution_count": null,
   "metadata": {
    "colab": {},
    "colab_type": "code",
    "id": "VDXoZ7h3o7a2"
   },
   "outputs": [],
   "source": [
    "import pandas as pd\n",
    "import numpy as np\n",
    "import re"
   ]
  },
  {
   "cell_type": "code",
   "execution_count": 11,
   "metadata": {
    "colab": {},
    "colab_type": "code",
    "id": "a_CklmUL35at"
   },
   "outputs": [],
   "source": [
    "KK_PATH = './'"
   ]
  },
  {
   "cell_type": "code",
   "execution_count": null,
   "metadata": {
    "colab": {
     "base_uri": "https://localhost:8080/",
     "height": 98
    },
    "colab_type": "code",
    "id": "uNMxMypsx63n",
    "outputId": "36fdf85e-bfd4-4376-dd7f-3caa38663b21"
   },
   "outputs": [
    {
     "name": "stderr",
     "output_type": "stream",
     "text": [
      "C:\\Users\\Alex\\Anaconda3\\lib\\site-packages\\ipykernel_launcher.py:7: SettingWithCopyWarning: \n",
      "A value is trying to be set on a copy of a slice from a DataFrame\n",
      "\n",
      "See the caveats in the documentation: http://pandas.pydata.org/pandas-docs/stable/indexing.html#indexing-view-versus-copy\n",
      "  import sys\n"
     ]
    },
    {
     "name": "stdout",
     "output_type": "stream",
     "text": [
      "41621\r"
     ]
    }
   ],
   "source": [
    "# df = pd.read_csv(KK_PATH + 'code_blocks.csv', sep='\\t')\n",
    "# df = df.dropna()\n",
    "# df = df.drop_duplicates()\n",
    "# df = df.reset_index(drop=True)\n",
    "# df['code_block_length'] = np.zeros(len(df))\n",
    "# for i in range(len(df)):\n",
    "#     df['code_block_length'][i] = len(df['code_block'][i])\n",
    "#     print(str(i)+'\\r', end='')\n",
    "# df = df.drop(df[df['code_block_length'] > 512].index)\n",
    "# df.shape\n",
    "# df.to_csv(KK_PATH + 'code_blocks_prepared.csv', sep='\\t', index=False)"
   ]
  },
  {
   "cell_type": "code",
   "execution_count": null,
   "metadata": {
    "colab": {
     "base_uri": "https://localhost:8080/",
     "height": 33
    },
    "colab_type": "code",
    "id": "cvyM07BJsvwg",
    "outputId": "1cbe1cd9-6d97-44d4-b0d8-c00b1e6e9a78"
   },
   "outputs": [],
   "source": [
    "df = pd.read_csv(KK_PATH + 'code_blocks_prepared.csv', sep='\\t')\n",
    "df.shape"
   ]
  },
  {
   "cell_type": "code",
   "execution_count": null,
   "metadata": {
    "colab": {},
    "colab_type": "code",
    "id": "1VhsSVhWj1Wx"
   },
   "outputs": [],
   "source": [
    "# TAG: input_output\n",
    "tokens = ['read'\n",
    "          # , 'import'\n",
    "          , 'csv'\n",
    "          , 'sql'\n",
    "          , 'json'\n",
    "          , 'png'\n",
    "          , 'jpg'\n",
    "          , 'tsv'\n",
    "          , 'write'\n",
    "          , 'open'\n",
    "          , 'print'\n",
    "          , 'output'\n",
    "          , 'stdin'\n",
    "          , 'stdout'\n",
    "          , 'path'\n",
    "          , 'dir'\n",
    "          ]"
   ]
  },
  {
   "cell_type": "code",
   "execution_count": null,
   "metadata": {
    "colab": {
     "base_uri": "https://localhost:8080/",
     "height": 1000
    },
    "colab_type": "code",
    "id": "8DdGpT3GwvWo",
    "outputId": "14357c6e-c7c9-4572-a157-c166a2f02bb8"
   },
   "outputs": [],
   "source": [
    "df['tag_import_output'] = 0\n",
    "for i in range(len(df)):\n",
    "    row = df['code_block'][i]\n",
    "    for token in tokens:\n",
    "        result = re.search(token, row)\n",
    "        if result!=None:\n",
    "            df['tag_import_output'][i] = 1\n",
    "            break"
   ]
  },
  {
   "cell_type": "code",
   "execution_count": null,
   "metadata": {
    "colab": {
     "base_uri": "https://localhost:8080/",
     "height": 212
    },
    "colab_type": "code",
    "id": "sQ_nE0Rhxv6O",
    "outputId": "077473dd-c391-4501-dd44-806726257624",
    "scrolled": true
   },
   "outputs": [],
   "source": [
    "df['tag_import_output'].value_counts()"
   ]
  },
  {
   "cell_type": "code",
   "execution_count": null,
   "metadata": {
    "colab": {},
    "colab_type": "code",
    "id": "EL-maUuR0H5v"
   },
   "outputs": [],
   "source": [
    "df.to_csv('code_blocks_tag_io.csv')"
   ]
  },
  {
   "cell_type": "code",
   "execution_count": null,
   "metadata": {},
   "outputs": [],
   "source": []
  }
 ],
 "metadata": {
  "kernelspec": {
   "display_name": "Python 3",
   "language": "python",
   "name": "python3"
  },
  "language_info": {
   "codemirror_mode": {
    "name": "ipython",
    "version": 3
   },
   "file_extension": ".py",
   "mimetype": "text/x-python",
   "name": "python",
   "nbconvert_exporter": "python",
   "pygments_lexer": "ipython3",
   "version": "3.7.0"
  }
 },
 "nbformat": 4,
 "nbformat_minor": 2
}
