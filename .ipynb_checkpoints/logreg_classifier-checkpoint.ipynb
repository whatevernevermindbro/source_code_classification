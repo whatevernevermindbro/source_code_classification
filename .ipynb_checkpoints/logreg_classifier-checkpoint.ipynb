{
 "cells": [
  {
   "cell_type": "markdown",
   "metadata": {
    "colab_type": "text",
    "id": "lbCPRMjSjxAD"
   },
   "source": [
    "### TF-IDF + Log Reg"
   ]
  },
  {
   "cell_type": "code",
   "execution_count": 1,
   "metadata": {
    "colab": {},
    "colab_type": "code",
    "id": "YBkPvqU1iJMY"
   },
   "outputs": [],
   "source": [
    "import pandas as pd\n",
    "import numpy as np\n",
    "import matplotlib.pyplot as plt\n",
    "import scipy.stats\n",
    "\n",
    "from sklearn.feature_extraction.text import TfidfVectorizer\n",
    "from sklearn.linear_model import LogisticRegression\n",
    "from sklearn.model_selection import train_test_split\n",
    "from sklearn.metrics import *\n",
    "\n",
    "import dagshub"
   ]
  },
  {
   "cell_type": "code",
   "execution_count": 2,
   "metadata": {},
   "outputs": [],
   "source": [
    "def load_corpus():\n",
    "    DATASET_PATH = './data/code_blocks_regex.csv'\n",
    "    CODE_COLUMN = 'code_block'\n",
    "    df = pd.read_csv(DATASET_PATH, encoding='utf-8', comment='#')#, quoting=csv.QUOTE_NONE, error_bad_lines=False)#, sep=','\n",
    "    corpus = df[CODE_COLUMN]\n",
    "    test_size = 0.1\n",
    "    test_rows = round(df.shape[0]*test_size)\n",
    "    train_rows = df.shape[0] - test_rows\n",
    "    train_corpus = df[CODE_COLUMN][0:test_rows]\n",
    "    test_corpus = df[CODE_COLUMN][train_rows:]\n",
    "    return df, corpus"
   ]
  },
  {
   "cell_type": "code",
   "execution_count": 3,
   "metadata": {
    "colab": {
     "base_uri": "https://localhost:8080/",
     "height": 345
    },
    "colab_type": "code",
    "id": "rkZxucYdjxAd",
    "outputId": "80421fe6-ac85-496a-fa5e-064c917120b5"
   },
   "outputs": [],
   "source": [
    "def tfidf_transform(corpus):\n",
    "    tfidf = TfidfVectorizer(min_df=5\n",
    "                            , max_df = 0.3\n",
    "                            , ngram_range = (1,2)\n",
    "                            , smooth_idf = True\n",
    "                           )\n",
    "    features = tfidf.fit_transform(corpus)\n",
    "    # for_pred = tfidf.transform(test_corpus)\n",
    "    return features"
   ]
  },
  {
   "cell_type": "code",
   "execution_count": 4,
   "metadata": {
    "colab": {},
    "colab_type": "code",
    "id": "-clcrT5-jxAl",
    "scrolled": true
   },
   "outputs": [],
   "source": [
    "def logreg_evaluate(df, features):\n",
    "    tag_to_predict = 'preprocessing'\n",
    "    X_train, X_test, y_train, y_test = train_test_split(features[0:len(df[tag_to_predict])], df[tag_to_predict], test_size=0.25)\n",
    "    clf = LogisticRegression(random_state=421).fit(X_train, y_train)\n",
    "    # clf.fit(X_train, y_train)\n",
    "    y_pred = clf.predict(X_test)\n",
    "    accuracy = clf.score(X_test, y_test)\n",
    "    f1_score = f1_score(y_pred, y_test)*100, 2\n",
    "    print(f'Mean Accuracy {round(accuracy*100, 2)}%')\n",
    "    print(f'F1-score {round(f1_score)}%')\n",
    "    errors = y_test - y_pred\n",
    "    plt.hist(errors)\n",
    "    plot_precision_recall_curve(clf, X_test, y_test)\n",
    "    plot_confusion_matrix(clf, X_test, y_test, values_format='d')\n",
    "    def mean_confidence_interval(data, confidence=0.95):\n",
    "        a = 1.0 * np.array(data)\n",
    "        n = len(a)\n",
    "        m, se = np.mean(a), scipy.stats.sem(a)\n",
    "        h = se * scipy.stats.t.ppf((1 + confidence) / 2., n-1)\n",
    "        return m, m-h, m+h\n",
    "    conf_interval = mean_confidence_interval(errors, 0.95)\n",
    "    print(conf_interval)\n",
    "    metrics = {'test_accuracy': accuracy\n",
    "               , 'test_f1_score': f1_score}\n",
    "    return metrics"
   ]
  },
  {
   "cell_type": "code",
   "execution_count": null,
   "metadata": {
    "colab": {},
    "colab_type": "code",
    "id": "d1rIH7pBtjFq"
   },
   "outputs": [
    {
     "name": "stdout",
     "output_type": "stream",
     "text": [
      "loaded\n",
      "tfidf-ed\n"
     ]
    }
   ],
   "source": [
    "if __name__ == '__main__':\n",
    "    df, corpus = load_corpus()\n",
    "    print(\"loaded\")\n",
    "    features = tfidf_transform(corpus)\n",
    "    print(\"tfidf-ed\")\n",
    "    with dagshub.dagshub_logger() as logger:\n",
    "        metrics = logreg_evaluate(df, features)\n",
    "        logger.log_metrics(metrics)\n",
    "    print(\"finished\")"
   ]
  },
  {
   "cell_type": "code",
   "execution_count": null,
   "metadata": {},
   "outputs": [],
   "source": []
  }
 ],
 "metadata": {
  "colab": {
   "collapsed_sections": [],
   "name": "NL2ML: LogReg.ipynb",
   "provenance": [],
   "toc_visible": true
  },
  "kernelspec": {
   "display_name": "Python 3",
   "language": "python",
   "name": "python3"
  },
  "language_info": {
   "codemirror_mode": {
    "name": "ipython",
    "version": 3
   },
   "file_extension": ".py",
   "mimetype": "text/x-python",
   "name": "python",
   "nbconvert_exporter": "python",
   "pygments_lexer": "ipython3",
   "version": "3.7.0"
  }
 },
 "nbformat": 4,
 "nbformat_minor": 1
}
