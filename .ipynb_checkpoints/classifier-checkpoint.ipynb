{
 "cells": [
  {
   "cell_type": "markdown",
   "metadata": {},
   "source": [
    "## Building a Classifier"
   ]
  },
  {
   "cell_type": "markdown",
   "metadata": {
    "colab_type": "text",
    "id": "VvfOR5Qr3yDZ"
   },
   "source": [
    "#### Let's embed the data for the tag \"input_output\""
   ]
  },
  {
   "cell_type": "code",
   "execution_count": 1,
   "metadata": {
    "colab": {},
    "colab_type": "code",
    "id": "VDXoZ7h3o7a2"
   },
   "outputs": [],
   "source": [
    "import pandas as pd\n",
    "import numpy as np\n",
    "import re"
   ]
  },
  {
   "cell_type": "code",
   "execution_count": 2,
   "metadata": {
    "colab": {},
    "colab_type": "code",
    "id": "a_CklmUL35at"
   },
   "outputs": [],
   "source": [
    "KK_PATH = './'"
   ]
  },
  {
   "cell_type": "code",
   "execution_count": 3,
   "metadata": {
    "colab": {
     "base_uri": "https://localhost:8080/",
     "height": 98
    },
    "colab_type": "code",
    "id": "uNMxMypsx63n",
    "outputId": "36fdf85e-bfd4-4376-dd7f-3caa38663b21"
   },
   "outputs": [],
   "source": [
    "# df = pd.read_csv(KK_PATH + 'code_blocks.csv', sep='\\t')\n",
    "# df = df.dropna()\n",
    "# df = df.drop_duplicates()\n",
    "# df = df.reset_index(drop=True)\n",
    "# df['code_block_length'] = np.zeros(len(df))\n",
    "# for i in range(len(df)):\n",
    "#     df['code_block_length'][i] = len(df['code_block'][i])\n",
    "#     print(str(i)+'\\r', end='')\n",
    "# df = df.drop(df[df['code_block_length'] > 512].index)\n",
    "# df.shape\n",
    "# df.to_csv(KK_PATH + 'code_blocks_prepared.csv', sep='\\t', index=False)"
   ]
  },
  {
   "cell_type": "code",
   "execution_count": 4,
   "metadata": {
    "colab": {
     "base_uri": "https://localhost:8080/",
     "height": 33
    },
    "colab_type": "code",
    "id": "cvyM07BJsvwg",
    "outputId": "1cbe1cd9-6d97-44d4-b0d8-c00b1e6e9a78"
   },
   "outputs": [],
   "source": [
    "# df = pd.read_csv(KK_PATH + 'code_blocks_prepared.csv', sep='\\t')\n",
    "# df.shape"
   ]
  },
  {
   "cell_type": "code",
   "execution_count": 5,
   "metadata": {},
   "outputs": [],
   "source": [
    "df = pd.read_csv(KK_PATH + 'code_blocks_tag_io.csv')"
   ]
  },
  {
   "cell_type": "code",
   "execution_count": 13,
   "metadata": {
    "colab": {},
    "colab_type": "code",
    "id": "1VhsSVhWj1Wx"
   },
   "outputs": [],
   "source": [
    "# TAG: input_output\n",
    "tokens_io = ['read', 'csv' , 'sql' , 'json' , 'png' , 'jpg' ,\n",
    "          'tsv' , 'write' , 'open' , 'print' , 'output' ,\n",
    "          'stdin' , 'stdout' , 'path' , 'dir'\n",
    "#            , 'import'\n",
    "          ]"
   ]
  },
  {
   "cell_type": "code",
   "execution_count": null,
   "metadata": {},
   "outputs": [],
   "source": [
    "tokens_"
   ]
  },
  {
   "cell_type": "code",
   "execution_count": 11,
   "metadata": {
    "colab": {
     "base_uri": "https://localhost:8080/",
     "height": 1000
    },
    "colab_type": "code",
    "id": "8DdGpT3GwvWo",
    "outputId": "14357c6e-c7c9-4572-a157-c166a2f02bb8"
   },
   "outputs": [],
   "source": [
    "def tokens_search(df, tokens, new_column_name):\n",
    "    df[new_column_name] = 0\n",
    "    for i in range(len(df)):\n",
    "        percents = str(round(100*i/len(df),1))\n",
    "        print(percents + '%\\r', end='')\n",
    "        row = df['code_block'][i]\n",
    "        for token in tokens:\n",
    "            result = re.search(token, row)\n",
    "            if result!=None:\n",
    "                df[new_column_name][i] = 1\n",
    "                break\n",
    "    return df"
   ]
  },
  {
   "cell_type": "code",
   "execution_count": 10,
   "metadata": {},
   "outputs": [
    {
     "name": "stdout",
     "output_type": "stream",
     "text": [
      "0.0%\r",
      "0.0011097054841645027%\r",
      "0.0022194109683290053%\r",
      "0.0033291164524935084%\r",
      "0.004438821936658011%\r",
      "0.005548527420822514%\r",
      "0.006658232904987017%\r",
      "0.0077679383891515194%\r",
      "0.008877643873316021%\r",
      "0.009987349357480524%\r",
      "0.011097054841645028%\r",
      "0.012206760325809531%\r",
      "0.013316465809974034%\r",
      "0.014426171294138536%\r",
      "0.015535876778303039%\r",
      "0.01664558226246754%\r",
      "0.017755287746632042%\r",
      "0.018864993230796545%\r",
      "0.019974698714961048%\r",
      "0.02108440419912555%\r",
      "0.022194109683290057%\r",
      "0.02330381516745456%\r",
      "0.024413520651619062%\r",
      "0.025523226135783564%\r",
      "0.026632931619948067%\r",
      "0.02774263710411257%\r",
      "0.028852342588277072%\r",
      "0.029962048072441575%\r",
      "0.031071753556606078%\r",
      "0.03218145904077058%\r",
      "0.03329116452493508%\r",
      "0.03440087000909958%\r",
      "0.035510575493264085%\r",
      "0.03662028097742859%\r",
      "0.03772998646159309%\r",
      "0.03883969194575759%\r",
      "0.039949397429922096%\r",
      "0.0410591029140866%\r",
      "0.0421688083982511%\r",
      "0.043278513882415603%\r",
      "0.04438821936658011%\r",
      "0.045497924850744616%\r",
      "0.04660763033490912%\r",
      "0.04771733581907362%\r",
      "0.048827041303238124%\r",
      "0.049936746787402626%\r",
      "0.05104645227156713%\r",
      "0.05215615775573163%\r",
      "0.053265863239896134%\r",
      "0.05437556872406064%\r",
      "0.05548527420822514%\r",
      "0.05659497969238964%\r",
      "0.057704685176554145%\r",
      "0.05881439066071865%\r",
      "0.05992409614488315%\r",
      "0.06103380162904765%\r",
      "0.062143507113212156%\r",
      "0.06325321259737665%\r",
      "0.06436291808154115%\r",
      "0.06547262356570566%\r",
      "0.06658232904987016%\r",
      "0.06769203453403466%\r",
      "0.06880174001819916%\r",
      "0.06991144550236367%\r",
      "0.07102115098652817%\r",
      "0.07213085647069267%\r",
      "0.07324056195485718%\r",
      "0.07435026743902168%\r",
      "0.07545997292318618%\r",
      "0.07656967840735068%\r",
      "0.07767938389151519%\r",
      "0.07878908937567969%\r",
      "0.07989879485984419%\r",
      "0.0810085003440087%\r",
      "0.0821182058281732%\r",
      "0.0832279113123377%\r",
      "0.0843376167965022%\r",
      "0.0854473222806667%\r",
      "0.08655702776483121%\r",
      "0.08766673324899571%\r",
      "0.08877643873316023%\r",
      "0.08988614421732473%\r"
     ]
    },
    {
     "name": "stderr",
     "output_type": "stream",
     "text": [
      "C:\\Users\\Alex\\Anaconda3\\lib\\site-packages\\ipykernel_launcher.py:10: SettingWithCopyWarning: \n",
      "A value is trying to be set on a copy of a slice from a DataFrame\n",
      "\n",
      "See the caveats in the documentation: http://pandas.pydata.org/pandas-docs/stable/indexing.html#indexing-view-versus-copy\n",
      "  # Remove the CWD from sys.path while we load stuff.\n"
     ]
    },
    {
     "name": "stdout",
     "output_type": "stream",
     "text": [
      "99.99889029451583%%%\r"
     ]
    },
    {
     "data": {
      "text/html": [
       "<div>\n",
       "<style scoped>\n",
       "    .dataframe tbody tr th:only-of-type {\n",
       "        vertical-align: middle;\n",
       "    }\n",
       "\n",
       "    .dataframe tbody tr th {\n",
       "        vertical-align: top;\n",
       "    }\n",
       "\n",
       "    .dataframe thead th {\n",
       "        text-align: right;\n",
       "    }\n",
       "</style>\n",
       "<table border=\"1\" class=\"dataframe\">\n",
       "  <thead>\n",
       "    <tr style=\"text-align: right;\">\n",
       "      <th></th>\n",
       "      <th>code_block</th>\n",
       "      <th>tag</th>\n",
       "      <th>code_block_length</th>\n",
       "      <th>tag_import_output</th>\n",
       "    </tr>\n",
       "  </thead>\n",
       "  <tbody>\n",
       "    <tr>\n",
       "      <th>0</th>\n",
       "      <td>#invite people for the Kaggle party\\r\\r\\r\\nimp...</td>\n",
       "      <td>2 first things first analysing saleprice\\r\\r\\...</td>\n",
       "      <td>300.0</td>\n",
       "      <td>0</td>\n",
       "    </tr>\n",
       "    <tr>\n",
       "      <th>1</th>\n",
       "      <td>#bring in the six packs\\r\\r\\r\\ndf_train = pd.r...</td>\n",
       "      <td>2 first things first analysing saleprice\\r\\r\\...</td>\n",
       "      <td>69.0</td>\n",
       "      <td>1</td>\n",
       "    </tr>\n",
       "    <tr>\n",
       "      <th>2</th>\n",
       "      <td>#check the decoration\\r\\r\\r\\ndf_train.columns,</td>\n",
       "      <td>2 first things first analysing saleprice\\r\\r\\...</td>\n",
       "      <td>39.0</td>\n",
       "      <td>0</td>\n",
       "    </tr>\n",
       "    <tr>\n",
       "      <th>3</th>\n",
       "      <td>#descriptive statistics summary\\r\\r\\r\\ndf_trai...</td>\n",
       "      <td>2 first things first analysing saleprice\\r\\r\\...</td>\n",
       "      <td>65.0</td>\n",
       "      <td>0</td>\n",
       "    </tr>\n",
       "    <tr>\n",
       "      <th>4</th>\n",
       "      <td>\\r\\r\\r\\n#histogram\\r\\r\\r\\nsns.distplot(df_trai...</td>\n",
       "      <td>very well it seems that your minimum price is ...</td>\n",
       "      <td>49.0</td>\n",
       "      <td>0</td>\n",
       "    </tr>\n",
       "  </tbody>\n",
       "</table>\n",
       "</div>"
      ],
      "text/plain": [
       "                                          code_block  \\\n",
       "0  #invite people for the Kaggle party\\r\\r\\r\\nimp...   \n",
       "1  #bring in the six packs\\r\\r\\r\\ndf_train = pd.r...   \n",
       "2     #check the decoration\\r\\r\\r\\ndf_train.columns,   \n",
       "3  #descriptive statistics summary\\r\\r\\r\\ndf_trai...   \n",
       "4  \\r\\r\\r\\n#histogram\\r\\r\\r\\nsns.distplot(df_trai...   \n",
       "\n",
       "                                                 tag  code_block_length  \\\n",
       "0   2 first things first analysing saleprice\\r\\r\\...              300.0   \n",
       "1   2 first things first analysing saleprice\\r\\r\\...               69.0   \n",
       "2   2 first things first analysing saleprice\\r\\r\\...               39.0   \n",
       "3   2 first things first analysing saleprice\\r\\r\\...               65.0   \n",
       "4  very well it seems that your minimum price is ...               49.0   \n",
       "\n",
       "   tag_import_output  \n",
       "0                  0  \n",
       "1                  1  \n",
       "2                  0  \n",
       "3                  0  \n",
       "4                  0  "
      ]
     },
     "execution_count": 10,
     "metadata": {},
     "output_type": "execute_result"
    }
   ],
   "source": [
    "%%time\n",
    "tokens_search(df.drop('tag_import_output',axis=1), tokens, 'tag_import_output').head()"
   ]
  },
  {
   "cell_type": "code",
   "execution_count": 10,
   "metadata": {
    "colab": {},
    "colab_type": "code",
    "id": "EL-maUuR0H5v"
   },
   "outputs": [],
   "source": [
    "# df.to_csv(KK_PATH + 'code_blocks_tag_io.csv', index=False)"
   ]
  },
  {
   "cell_type": "code",
   "execution_count": 12,
   "metadata": {
    "colab": {
     "base_uri": "https://localhost:8080/",
     "height": 212
    },
    "colab_type": "code",
    "id": "sQ_nE0Rhxv6O",
    "outputId": "077473dd-c391-4501-dd44-806726257624",
    "scrolled": false
   },
   "outputs": [
    {
     "data": {
      "text/plain": [
       "0    68766\n",
       "1    21348\n",
       "Name: tag_import_output, dtype: int64"
      ]
     },
     "execution_count": 12,
     "metadata": {},
     "output_type": "execute_result"
    }
   ],
   "source": [
    "df['tag_import_output'].value_counts()"
   ]
  }
 ],
 "metadata": {
  "kernelspec": {
   "display_name": "Python 3",
   "language": "python",
   "name": "python3"
  },
  "language_info": {
   "codemirror_mode": {
    "name": "ipython",
    "version": 3
   },
   "file_extension": ".py",
   "mimetype": "text/x-python",
   "name": "python",
   "nbconvert_exporter": "python",
   "pygments_lexer": "ipython3",
   "version": "3.7.0"
  }
 },
 "nbformat": 4,
 "nbformat_minor": 2
}
