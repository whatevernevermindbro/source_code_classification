{
  "nbformat": 4,
  "nbformat_minor": 0,
  "metadata": {
    "colab": {
      "name": "predict_tag.ipynb",
      "provenance": [],
      "collapsed_sections": []
    },
    "kernelspec": {
      "display_name": "Python 3.8.5 32-bit",
      "language": "python",
      "name": "python_defaultSpec_1597077601904"
    },
    "language_info": {
      "codemirror_mode": {
        "name": "ipython",
        "version": 3
      },
      "file_extension": ".py",
      "mimetype": "text/x-python",
      "name": "python",
      "nbconvert_exporter": "python",
      "pygments_lexer": "ipython3",
      "version": "3.7.0"
    },
    "deepnote_notebook_id": "de3fccfc-e616-4534-95cc-32b90652859d",
    "deepnote_execution_queue": []
  },
  "cells": [
    {
      "cell_type": "markdown",
      "metadata": {
        "id": "duvd91VsO_R1",
        "colab_type": "text"
      },
      "source": [
        "# Predicting tags for the given code\n",
        "### Using simple models (SVM, LogReg, Naive Bayes, LGBM)"
      ]
    },
    {
      "cell_type": "code",
      "metadata": {
        "tags": [],
        "cell_id": "0b380c60-be6b-4720-a6e6-ebf7aee1c45d",
        "id": "TZWhi6QlKucw",
        "colab_type": "code",
        "colab": {
          "base_uri": "https://localhost:8080/",
          "height": 52
        },
        "outputId": "65d1c200-843e-4737-cc09-f8e6baa04f2b"
      },
      "source": [
        "# !pip install dagshub"
      ],
      "execution_count": 39,
      "outputs": []
    },
    {
      "cell_type": "code",
      "metadata": {
        "cell_id": "441b2da9-1dee-4019-bda3-6f4994571f6d",
        "id": "PZGqPi1rKuc5",
        "colab_type": "code",
        "colab": {},
        "tags": []
      },
      "source": [
        "import pandas as pd\n",
        "import numpy as np\n",
        "import matplotlib.pyplot as plt\n",
        "import scipy\n",
        "\n",
        "from sklearn.metrics import *\n",
        "from sklearn.feature_extraction.text import TfidfVectorizer\n",
        "from sklearn.svm import SVC\n",
        "\n",
        "import pickle\n",
        "import dagshub"
      ],
      "execution_count": 42,
      "outputs": []
    },
    {
      "cell_type": "code",
      "metadata": {
        "cell_id": "80383df4-32e7-46ba-b0b9-71dba689140e",
        "id": "WTeMgt6pKudD",
        "colab_type": "code",
        "colab": {}
      },
      "source": [
        "def load_code_blocks(DATASET_PATH, CODE_COLUMN):\n",
        "    df = pd.read_csv(DATASET_PATH, encoding='utf-8', comment='#', sep=',')#, quoting=csv.QUOTE_NONE, error_bad_lines=False)#, sep=','\n",
        "    print(\"Data of {} shape has been loaded\".format(df.shape))\n",
        "    code_blocks = df[CODE_COLUMN]\n",
        "    # test_size = 0.1\n",
        "    # test_rows = round(df.shape[0]*test_size)\n",
        "    # train_rows = df.shape[0] - test_rows\n",
        "    # train_code_blocks = df[CODE_COLUMN][0:test_rows]\n",
        "    # test_code_blocks = df[CODE_COLUMN][train_rows:]\n",
        "    return df, code_blocks"
      ],
      "execution_count": 45,
      "outputs": []
    },
    {
      "cell_type": "code",
      "metadata": {
        "cell_id": "6d376ccc-4060-470d-a8e4-495a5ec14bc2",
        "id": "ZSgWLSwpKudV",
        "colab_type": "code",
        "colab": {}
      },
      "source": [
        "def tfidf_fit_transform(code_blocks, params, TFIDF_DIR):\n",
        "    vectorizer = TfidfVectorizer(params)\n",
        "    tfidf = vectorizer.fit(code_blocks)\n",
        "    pickle.dump(tfidf, open(\"tfidf.pickle\", \"wb\"))\n",
        "    code_blocks_tfidf = tfidf.transform(code_blocks)\n",
        "    print(\"tfidf trained, saved and transformed\")\n",
        "    return code_blocks_tfidf"
      ],
      "execution_count": 48,
      "outputs": []
    },
    {
      "cell_type": "code",
      "metadata": {
        "id": "x3231i9XMzZ2",
        "colab_type": "code",
        "colab": {}
      },
      "source": [
        "def tfidf_transform(code_blocks, params, TFIDF_DIR):\n",
        "    tfidf = pickle.load(open(TFIDF_DIR, 'rb'))\n",
        "    code_blocks_tfidf = tfidf.transform(code_blocks)\n",
        "    print(\"tfidf loaded and transformed\")\n",
        "    return code_blocks_tfidf"
      ],
      "execution_count": 51,
      "outputs": []
    },
    {
      "cell_type": "code",
      "metadata": {
        "cell_id": "b72d586f-243c-41aa-aed3-6caf51213d4a",
        "id": "9TBwKTouKudb",
        "colab_type": "code",
        "colab": {}
      },
      "source": [
        "def SVM_evaluate(df, code_blocks, tfidf_params, TFIDF_DIR, SVM_params):\n",
        "    code_blocks_tfidf = tfidf_fit_transform(code_blocks, tfidf_params, TFIDF_DIR)\n",
        "    X_train, X_test, y_train, y_test = train_test_split(code_blocks_tfidf, df[TAG_TO_PREDICT], test_size=0.3)\n",
        "    # grid = {\"C\": [100]}\n",
        "    # cv = KFold(n_splits=2, shuffle=True, random_state=241)\n",
        "    # model = SVC(kernel=\"linear\", random_state=241)\n",
        "    # gs = GridSearchCV(model, grid, scoring=\"accuracy\", cv=cv, verbose=1, n_jobs=-1)\n",
        "    # gs.fit(X_train[:25000], y_train.ravel()[:25000])\n",
        "    # C = gs.best_params_.get('C')\n",
        "    model = SVC(**SVM_params)\n",
        "    # model.set_params(SVM_params)\n",
        "    print(model.get_params())\n",
        "    model.fit(X_train, y_train.ravel())\n",
        "    # a faster option:\n",
        "    # 1: usage of BagginClassifier decreased the fitting time from 38 mins to 8\n",
        "    # n_estimators = 10\n",
        "    clf = model\n",
        "    # clf = BaggingClassifier(model, max_samples=1.0 / n_estimators, n_estimators=n_estimators)\n",
        "    # clf.fit(X_train, y_train.ravel())\n",
        "    pickle.dump(clf, open(MODEL_DIR, 'wb'))\n",
        "    # y_pred = model.predict(X_test)\n",
        "    y_pred = clf.predict(X_test)\n",
        "    accuracy = accuracy_score(y_test, y_pred)\n",
        "    f1 = f1_score(y_test, y_pred)\n",
        "    metrics = {'test_accuracy': accuracy\n",
        "               , 'test_f1_score': f1}\n",
        "    plot_confusion_matrix(model, X_test, y_test)\n",
        "    return metrics"
      ],
      "execution_count": 54,
      "outputs": []
    },
    {
      "cell_type": "code",
      "metadata": {
        "tags": [],
        "cell_id": "c09fca7c-1c20-4ec8-b2b2-6bd85d739cce",
        "id": "c0uVv2uWKudk",
        "colab_type": "code",
        "colab": {}
      },
      "source": [
        "def get_predictions(X, y, TAG_TO_PREDICT, MODEL_DIR):\n",
        "    clf = pickle.load(open(MODEL_DIR, 'rb'))\n",
        "    print(\"the model has been loaded\")\n",
        "    # result = loaded_model.score(X, y)\n",
        "    y_pred = clf.predict(X)\n",
        "    print(\"predictions were calculated\")\n",
        "    accuracy = clf.score(X, y)\n",
        "    f1 = f1_score(y_pred, y, average='weighted')\n",
        "    print(f'Mean Accuracy {round(accuracy*100, 2)}%')\n",
        "    print(f'F1-score {round(f1*100, 2)}%')\n",
        "    errors = y - y_pred\n",
        "    plt.hist(errors)\n",
        "    plot_precision_recall_curve(clf, X, y)\n",
        "    plot_confusion_matrix(clf, X, y, values_format='d')\n",
        "    def mean_confidence_interval(data, confidence=0.95):\n",
        "        a = 1.0 * np.array(data)\n",
        "        n = len(a)\n",
        "        m, se = np.mean(a), scipy.stats.sem(a)\n",
        "        h = se * scipy.stats.t.ppf((1 + confidence) / 2., n-1)\n",
        "        return m, m-h, m+h\n",
        "    conf_interval = mean_confidence_interval(errors, 0.95)\n",
        "    print(conf_interval)\n",
        "    metrics = {'test_accuracy': accuracy\n",
        "               , 'test_f1_score': f1\n",
        "               , 'conf_interval': conf_interval}\n",
        "    return metrics\n",
        "    print(result)"
      ],
      "execution_count": 57,
      "outputs": []
    },
    {
      "cell_type": "code",
      "metadata": {
        "cell_id": "b66b92bc-9fb1-4810-8640-af32c015a076",
        "id": "ztGp0qcoKudq",
        "colab_type": "code",
        "colab": {
          "base_uri": "https://localhost:8080/",
          "height": 504
        },
        "outputId": "6dce49be-007b-430c-f56a-90d7e9ee2978",
        "tags": []
      },
      "source": [
        "if __name__ == '__main__':\n",
        "    DATASET_PATH = './data/code_blocks_unique_regex.csv'\n",
        "    MODEL_DIR = './models/logreg_regex.sav'\n",
        "    TFIDF_DIR = './models/tfidf_logreg.pickle'\n",
        "    CODE_COLUMN = 'code_block'\n",
        "    TAG_TO_PREDICT = 'preprocessing'\n",
        "    df, code_blocks = load_code_blocks(DATASET_PATH, CODE_COLUMN)\n",
        "    nrows = df.shape[0]\n",
        "    print(\"loaded\")\n",
        "    tfidf_params = {'min_df': 5\n",
        "            , 'max_df': 0.3\n",
        "            , 'smooth_idf': True}\n",
        "    SVM_params = {'C': 100\n",
        "            , 'kernel': \"linear\"\n",
        "            , 'verbose': 1\n",
        "            , 'random_state': 241}\n",
        "    meta = {'data': DATASET_PATH\n",
        "                ,'nrows': nrows\n",
        "                ,'label': TAG_TO_PREDICT\n",
        "                ,'model': MODEL_DIR}\n",
        "    code_blocks_tfidf = tfidf_transform(code_blocks, tfidf_params, TFIDF_DIR)\n",
        "    with dagshub.dagshub_logger() as logger:\n",
        "        # metrics = SVM_evaluate(df, code_blocks, tfidf_params, TFIDF_DIR, SVM_params)\n",
        "        print(df[TAG_TO_PREDICT].unique(), df.dtypes)\n",
        "        metrics = get_predictions(code_blocks_tfidf, df[TAG_TO_PREDICT].astype(int), TAG_TO_PREDICT, MODEL_DIR)\n",
        "        logger.log_hyperparams(meta)\n",
        "        logger.log_hyperparams(tfidf_params)\n",
        "        logger.log_hyperparams(SVM_params)\n",
        "        logger.log_metrics(metrics)\n",
        "    print(\"finished\")"
      ],
      "execution_count": 60,
      "outputs": [
        {
          "output_type": "error",
          "ename": "ParserError",
          "evalue": "Error tokenizing data. C error: Expected 1 fields in line 12, saw 2\n",
          "traceback": [
            "\u001b[1;31m---------------------------------------------------------------------------\u001b[0m",
            "\u001b[1;31mParserError\u001b[0m                               Traceback (most recent call last)",
            "\u001b[1;32m<ipython-input-60-c24d3de5f1c3>\u001b[0m in \u001b[0;36m<module>\u001b[1;34m\u001b[0m\n\u001b[0;32m      5\u001b[0m     \u001b[0mCODE_COLUMN\u001b[0m \u001b[1;33m=\u001b[0m \u001b[1;34m'code_block'\u001b[0m\u001b[1;33m\u001b[0m\u001b[1;33m\u001b[0m\u001b[0m\n\u001b[0;32m      6\u001b[0m     \u001b[0mTAG_TO_PREDICT\u001b[0m \u001b[1;33m=\u001b[0m \u001b[1;34m'preprocessing'\u001b[0m\u001b[1;33m\u001b[0m\u001b[1;33m\u001b[0m\u001b[0m\n\u001b[1;32m----> 7\u001b[1;33m     \u001b[0mdf\u001b[0m\u001b[1;33m,\u001b[0m \u001b[0mcode_blocks\u001b[0m \u001b[1;33m=\u001b[0m \u001b[0mload_code_blocks\u001b[0m\u001b[1;33m(\u001b[0m\u001b[0mDATASET_PATH\u001b[0m\u001b[1;33m,\u001b[0m \u001b[0mCODE_COLUMN\u001b[0m\u001b[1;33m)\u001b[0m\u001b[1;33m\u001b[0m\u001b[1;33m\u001b[0m\u001b[0m\n\u001b[0m\u001b[0;32m      8\u001b[0m     \u001b[0mnrows\u001b[0m \u001b[1;33m=\u001b[0m \u001b[0mdf\u001b[0m\u001b[1;33m.\u001b[0m\u001b[0mshape\u001b[0m\u001b[1;33m[\u001b[0m\u001b[1;36m0\u001b[0m\u001b[1;33m]\u001b[0m\u001b[1;33m\u001b[0m\u001b[1;33m\u001b[0m\u001b[0m\n\u001b[0;32m      9\u001b[0m     \u001b[0mprint\u001b[0m\u001b[1;33m(\u001b[0m\u001b[1;34m\"loaded\"\u001b[0m\u001b[1;33m)\u001b[0m\u001b[1;33m\u001b[0m\u001b[1;33m\u001b[0m\u001b[0m\n",
            "\u001b[1;32m<ipython-input-45-d52e87df0b43>\u001b[0m in \u001b[0;36mload_code_blocks\u001b[1;34m(DATASET_PATH, CODE_COLUMN)\u001b[0m\n\u001b[0;32m      1\u001b[0m \u001b[1;32mdef\u001b[0m \u001b[0mload_code_blocks\u001b[0m\u001b[1;33m(\u001b[0m\u001b[0mDATASET_PATH\u001b[0m\u001b[1;33m,\u001b[0m \u001b[0mCODE_COLUMN\u001b[0m\u001b[1;33m)\u001b[0m\u001b[1;33m:\u001b[0m\u001b[1;33m\u001b[0m\u001b[1;33m\u001b[0m\u001b[0m\n\u001b[1;32m----> 2\u001b[1;33m     \u001b[0mdf\u001b[0m \u001b[1;33m=\u001b[0m \u001b[0mpd\u001b[0m\u001b[1;33m.\u001b[0m\u001b[0mread_csv\u001b[0m\u001b[1;33m(\u001b[0m\u001b[0mDATASET_PATH\u001b[0m\u001b[1;33m,\u001b[0m \u001b[0mencoding\u001b[0m\u001b[1;33m=\u001b[0m\u001b[1;34m'utf-8'\u001b[0m\u001b[1;33m,\u001b[0m \u001b[0mcomment\u001b[0m\u001b[1;33m=\u001b[0m\u001b[1;34m'#'\u001b[0m\u001b[1;33m,\u001b[0m \u001b[0msep\u001b[0m\u001b[1;33m=\u001b[0m\u001b[1;34m','\u001b[0m\u001b[1;33m)\u001b[0m\u001b[1;31m#, quoting=csv.QUOTE_NONE, error_bad_lines=False)#, sep=','\u001b[0m\u001b[1;33m\u001b[0m\u001b[1;33m\u001b[0m\u001b[0m\n\u001b[0m\u001b[0;32m      3\u001b[0m     \u001b[0mprint\u001b[0m\u001b[1;33m(\u001b[0m\u001b[1;34m\"Data of {} shape has been loaded\"\u001b[0m\u001b[1;33m.\u001b[0m\u001b[0mformat\u001b[0m\u001b[1;33m(\u001b[0m\u001b[0mdf\u001b[0m\u001b[1;33m.\u001b[0m\u001b[0mshape\u001b[0m\u001b[1;33m)\u001b[0m\u001b[1;33m)\u001b[0m\u001b[1;33m\u001b[0m\u001b[1;33m\u001b[0m\u001b[0m\n\u001b[0;32m      4\u001b[0m     \u001b[0mcode_blocks\u001b[0m \u001b[1;33m=\u001b[0m \u001b[0mdf\u001b[0m\u001b[1;33m[\u001b[0m\u001b[0mCODE_COLUMN\u001b[0m\u001b[1;33m]\u001b[0m\u001b[1;33m\u001b[0m\u001b[1;33m\u001b[0m\u001b[0m\n\u001b[0;32m      5\u001b[0m     \u001b[1;31m# test_size = 0.1\u001b[0m\u001b[1;33m\u001b[0m\u001b[1;33m\u001b[0m\u001b[1;33m\u001b[0m\u001b[0m\n",
            "\u001b[1;32m~\\AppData\\Local\\Programs\\Python\\Python38-32\\lib\\site-packages\\pandas\\io\\parsers.py\u001b[0m in \u001b[0;36mread_csv\u001b[1;34m(filepath_or_buffer, sep, delimiter, header, names, index_col, usecols, squeeze, prefix, mangle_dupe_cols, dtype, engine, converters, true_values, false_values, skipinitialspace, skiprows, skipfooter, nrows, na_values, keep_default_na, na_filter, verbose, skip_blank_lines, parse_dates, infer_datetime_format, keep_date_col, date_parser, dayfirst, cache_dates, iterator, chunksize, compression, thousands, decimal, lineterminator, quotechar, quoting, doublequote, escapechar, comment, encoding, dialect, error_bad_lines, warn_bad_lines, delim_whitespace, low_memory, memory_map, float_precision)\u001b[0m\n\u001b[0;32m    684\u001b[0m     )\n\u001b[0;32m    685\u001b[0m \u001b[1;33m\u001b[0m\u001b[0m\n\u001b[1;32m--> 686\u001b[1;33m     \u001b[1;32mreturn\u001b[0m \u001b[0m_read\u001b[0m\u001b[1;33m(\u001b[0m\u001b[0mfilepath_or_buffer\u001b[0m\u001b[1;33m,\u001b[0m \u001b[0mkwds\u001b[0m\u001b[1;33m)\u001b[0m\u001b[1;33m\u001b[0m\u001b[1;33m\u001b[0m\u001b[0m\n\u001b[0m\u001b[0;32m    687\u001b[0m \u001b[1;33m\u001b[0m\u001b[0m\n\u001b[0;32m    688\u001b[0m \u001b[1;33m\u001b[0m\u001b[0m\n",
            "\u001b[1;32m~\\AppData\\Local\\Programs\\Python\\Python38-32\\lib\\site-packages\\pandas\\io\\parsers.py\u001b[0m in \u001b[0;36m_read\u001b[1;34m(filepath_or_buffer, kwds)\u001b[0m\n\u001b[0;32m    456\u001b[0m \u001b[1;33m\u001b[0m\u001b[0m\n\u001b[0;32m    457\u001b[0m     \u001b[1;32mtry\u001b[0m\u001b[1;33m:\u001b[0m\u001b[1;33m\u001b[0m\u001b[1;33m\u001b[0m\u001b[0m\n\u001b[1;32m--> 458\u001b[1;33m         \u001b[0mdata\u001b[0m \u001b[1;33m=\u001b[0m \u001b[0mparser\u001b[0m\u001b[1;33m.\u001b[0m\u001b[0mread\u001b[0m\u001b[1;33m(\u001b[0m\u001b[0mnrows\u001b[0m\u001b[1;33m)\u001b[0m\u001b[1;33m\u001b[0m\u001b[1;33m\u001b[0m\u001b[0m\n\u001b[0m\u001b[0;32m    459\u001b[0m     \u001b[1;32mfinally\u001b[0m\u001b[1;33m:\u001b[0m\u001b[1;33m\u001b[0m\u001b[1;33m\u001b[0m\u001b[0m\n\u001b[0;32m    460\u001b[0m         \u001b[0mparser\u001b[0m\u001b[1;33m.\u001b[0m\u001b[0mclose\u001b[0m\u001b[1;33m(\u001b[0m\u001b[1;33m)\u001b[0m\u001b[1;33m\u001b[0m\u001b[1;33m\u001b[0m\u001b[0m\n",
            "\u001b[1;32m~\\AppData\\Local\\Programs\\Python\\Python38-32\\lib\\site-packages\\pandas\\io\\parsers.py\u001b[0m in \u001b[0;36mread\u001b[1;34m(self, nrows)\u001b[0m\n\u001b[0;32m   1184\u001b[0m     \u001b[1;32mdef\u001b[0m \u001b[0mread\u001b[0m\u001b[1;33m(\u001b[0m\u001b[0mself\u001b[0m\u001b[1;33m,\u001b[0m \u001b[0mnrows\u001b[0m\u001b[1;33m=\u001b[0m\u001b[1;32mNone\u001b[0m\u001b[1;33m)\u001b[0m\u001b[1;33m:\u001b[0m\u001b[1;33m\u001b[0m\u001b[1;33m\u001b[0m\u001b[0m\n\u001b[0;32m   1185\u001b[0m         \u001b[0mnrows\u001b[0m \u001b[1;33m=\u001b[0m \u001b[0m_validate_integer\u001b[0m\u001b[1;33m(\u001b[0m\u001b[1;34m\"nrows\"\u001b[0m\u001b[1;33m,\u001b[0m \u001b[0mnrows\u001b[0m\u001b[1;33m)\u001b[0m\u001b[1;33m\u001b[0m\u001b[1;33m\u001b[0m\u001b[0m\n\u001b[1;32m-> 1186\u001b[1;33m         \u001b[0mret\u001b[0m \u001b[1;33m=\u001b[0m \u001b[0mself\u001b[0m\u001b[1;33m.\u001b[0m\u001b[0m_engine\u001b[0m\u001b[1;33m.\u001b[0m\u001b[0mread\u001b[0m\u001b[1;33m(\u001b[0m\u001b[0mnrows\u001b[0m\u001b[1;33m)\u001b[0m\u001b[1;33m\u001b[0m\u001b[1;33m\u001b[0m\u001b[0m\n\u001b[0m\u001b[0;32m   1187\u001b[0m \u001b[1;33m\u001b[0m\u001b[0m\n\u001b[0;32m   1188\u001b[0m         \u001b[1;31m# May alter columns / col_dict\u001b[0m\u001b[1;33m\u001b[0m\u001b[1;33m\u001b[0m\u001b[1;33m\u001b[0m\u001b[0m\n",
            "\u001b[1;32m~\\AppData\\Local\\Programs\\Python\\Python38-32\\lib\\site-packages\\pandas\\io\\parsers.py\u001b[0m in \u001b[0;36mread\u001b[1;34m(self, nrows)\u001b[0m\n\u001b[0;32m   2143\u001b[0m     \u001b[1;32mdef\u001b[0m \u001b[0mread\u001b[0m\u001b[1;33m(\u001b[0m\u001b[0mself\u001b[0m\u001b[1;33m,\u001b[0m \u001b[0mnrows\u001b[0m\u001b[1;33m=\u001b[0m\u001b[1;32mNone\u001b[0m\u001b[1;33m)\u001b[0m\u001b[1;33m:\u001b[0m\u001b[1;33m\u001b[0m\u001b[1;33m\u001b[0m\u001b[0m\n\u001b[0;32m   2144\u001b[0m         \u001b[1;32mtry\u001b[0m\u001b[1;33m:\u001b[0m\u001b[1;33m\u001b[0m\u001b[1;33m\u001b[0m\u001b[0m\n\u001b[1;32m-> 2145\u001b[1;33m             \u001b[0mdata\u001b[0m \u001b[1;33m=\u001b[0m \u001b[0mself\u001b[0m\u001b[1;33m.\u001b[0m\u001b[0m_reader\u001b[0m\u001b[1;33m.\u001b[0m\u001b[0mread\u001b[0m\u001b[1;33m(\u001b[0m\u001b[0mnrows\u001b[0m\u001b[1;33m)\u001b[0m\u001b[1;33m\u001b[0m\u001b[1;33m\u001b[0m\u001b[0m\n\u001b[0m\u001b[0;32m   2146\u001b[0m         \u001b[1;32mexcept\u001b[0m \u001b[0mStopIteration\u001b[0m\u001b[1;33m:\u001b[0m\u001b[1;33m\u001b[0m\u001b[1;33m\u001b[0m\u001b[0m\n\u001b[0;32m   2147\u001b[0m             \u001b[1;32mif\u001b[0m \u001b[0mself\u001b[0m\u001b[1;33m.\u001b[0m\u001b[0m_first_chunk\u001b[0m\u001b[1;33m:\u001b[0m\u001b[1;33m\u001b[0m\u001b[1;33m\u001b[0m\u001b[0m\n",
            "\u001b[1;32mpandas\\_libs\\parsers.pyx\u001b[0m in \u001b[0;36mpandas._libs.parsers.TextReader.read\u001b[1;34m()\u001b[0m\n",
            "\u001b[1;32mpandas\\_libs\\parsers.pyx\u001b[0m in \u001b[0;36mpandas._libs.parsers.TextReader._read_low_memory\u001b[1;34m()\u001b[0m\n",
            "\u001b[1;32mpandas\\_libs\\parsers.pyx\u001b[0m in \u001b[0;36mpandas._libs.parsers.TextReader._read_rows\u001b[1;34m()\u001b[0m\n",
            "\u001b[1;32mpandas\\_libs\\parsers.pyx\u001b[0m in \u001b[0;36mpandas._libs.parsers.TextReader._tokenize_rows\u001b[1;34m()\u001b[0m\n",
            "\u001b[1;32mpandas\\_libs\\parsers.pyx\u001b[0m in \u001b[0;36mpandas._libs.parsers.raise_parser_error\u001b[1;34m()\u001b[0m\n",
            "\u001b[1;31mParserError\u001b[0m: Error tokenizing data. C error: Expected 1 fields in line 12, saw 2\n"
          ]
        }
      ]
    },
    {
      "cell_type": "code",
      "execution_count": null,
      "metadata": {},
      "outputs": [],
      "source": []
    }
  ]
}