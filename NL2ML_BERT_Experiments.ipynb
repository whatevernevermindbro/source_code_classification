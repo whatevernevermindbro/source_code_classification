{
  "nbformat": 4,
  "nbformat_minor": 0,
  "metadata": {
    "kernelspec": {
      "language": "python",
      "display_name": "Python 3",
      "name": "python3"
    },
    "language_info": {
      "pygments_lexer": "ipython3",
      "nbconvert_exporter": "python",
      "version": "3.6.4",
      "file_extension": ".py",
      "codemirror_mode": {
        "name": "ipython",
        "version": 3
      },
      "name": "python",
      "mimetype": "text/x-python"
    },
    "colab": {
      "name": "NL2ML: BERT Experiments",
      "provenance": [],
      "collapsed_sections": [],
      "toc_visible": true
    }
  },
  "cells": [
    {
      "cell_type": "code",
      "metadata": {
        "trusted": true,
        "id": "i2PK_6ES7ysS",
        "colab_type": "code",
        "outputId": "60b1e2d0-47dc-4e99-afb5-1eee118aa9e9",
        "colab": {
          "base_uri": "https://localhost:8080/",
          "height": 816
        }
      },
      "source": [
        "!pip install tensorflow_hub==0.7\n",
        "!pip install tensorflow==2.0.0\n",
        "!pip install bert-for-tf2\n",
        "!pip install sentencepiece"
      ],
      "execution_count": 1,
      "outputs": [
        {
          "output_type": "stream",
          "text": [
            "Requirement already satisfied: tensorflow_hub==0.7 in /usr/local/lib/python3.6/dist-packages (0.7.0)\n",
            "Requirement already satisfied: numpy>=1.12.0 in /usr/local/lib/python3.6/dist-packages (from tensorflow_hub==0.7) (1.18.2)\n",
            "Requirement already satisfied: protobuf>=3.4.0 in /usr/local/lib/python3.6/dist-packages (from tensorflow_hub==0.7) (3.10.0)\n",
            "Requirement already satisfied: six>=1.10.0 in /usr/local/lib/python3.6/dist-packages (from tensorflow_hub==0.7) (1.12.0)\n",
            "Requirement already satisfied: setuptools in /usr/local/lib/python3.6/dist-packages (from protobuf>=3.4.0->tensorflow_hub==0.7) (46.1.3)\n",
            "Requirement already satisfied: tensorflow==2.0.0 in /usr/local/lib/python3.6/dist-packages (2.0.0)\n",
            "Requirement already satisfied: six>=1.10.0 in /usr/local/lib/python3.6/dist-packages (from tensorflow==2.0.0) (1.12.0)\n",
            "Requirement already satisfied: keras-applications>=1.0.8 in /usr/local/lib/python3.6/dist-packages (from tensorflow==2.0.0) (1.0.8)\n",
            "Requirement already satisfied: gast==0.2.2 in /usr/local/lib/python3.6/dist-packages (from tensorflow==2.0.0) (0.2.2)\n",
            "Requirement already satisfied: protobuf>=3.6.1 in /usr/local/lib/python3.6/dist-packages (from tensorflow==2.0.0) (3.10.0)\n",
            "Requirement already satisfied: tensorflow-estimator<2.1.0,>=2.0.0 in /usr/local/lib/python3.6/dist-packages (from tensorflow==2.0.0) (2.0.1)\n",
            "Requirement already satisfied: numpy<2.0,>=1.16.0 in /usr/local/lib/python3.6/dist-packages (from tensorflow==2.0.0) (1.18.2)\n",
            "Requirement already satisfied: termcolor>=1.1.0 in /usr/local/lib/python3.6/dist-packages (from tensorflow==2.0.0) (1.1.0)\n",
            "Requirement already satisfied: tensorboard<2.1.0,>=2.0.0 in /usr/local/lib/python3.6/dist-packages (from tensorflow==2.0.0) (2.0.2)\n",
            "Requirement already satisfied: wrapt>=1.11.1 in /usr/local/lib/python3.6/dist-packages (from tensorflow==2.0.0) (1.12.1)\n",
            "Requirement already satisfied: astor>=0.6.0 in /usr/local/lib/python3.6/dist-packages (from tensorflow==2.0.0) (0.8.1)\n",
            "Requirement already satisfied: wheel>=0.26 in /usr/local/lib/python3.6/dist-packages (from tensorflow==2.0.0) (0.34.2)\n",
            "Requirement already satisfied: grpcio>=1.8.6 in /usr/local/lib/python3.6/dist-packages (from tensorflow==2.0.0) (1.27.2)\n",
            "Requirement already satisfied: opt-einsum>=2.3.2 in /usr/local/lib/python3.6/dist-packages (from tensorflow==2.0.0) (3.2.0)\n",
            "Requirement already satisfied: keras-preprocessing>=1.0.5 in /usr/local/lib/python3.6/dist-packages (from tensorflow==2.0.0) (1.1.0)\n",
            "Requirement already satisfied: absl-py>=0.7.0 in /usr/local/lib/python3.6/dist-packages (from tensorflow==2.0.0) (0.9.0)\n",
            "Requirement already satisfied: google-pasta>=0.1.6 in /usr/local/lib/python3.6/dist-packages (from tensorflow==2.0.0) (0.2.0)\n",
            "Requirement already satisfied: h5py in /usr/local/lib/python3.6/dist-packages (from keras-applications>=1.0.8->tensorflow==2.0.0) (2.10.0)\n",
            "Requirement already satisfied: setuptools in /usr/local/lib/python3.6/dist-packages (from protobuf>=3.6.1->tensorflow==2.0.0) (46.1.3)\n",
            "Requirement already satisfied: markdown>=2.6.8 in /usr/local/lib/python3.6/dist-packages (from tensorboard<2.1.0,>=2.0.0->tensorflow==2.0.0) (3.2.1)\n",
            "Requirement already satisfied: google-auth-oauthlib<0.5,>=0.4.1 in /usr/local/lib/python3.6/dist-packages (from tensorboard<2.1.0,>=2.0.0->tensorflow==2.0.0) (0.4.1)\n",
            "Requirement already satisfied: google-auth<2,>=1.6.3 in /usr/local/lib/python3.6/dist-packages (from tensorboard<2.1.0,>=2.0.0->tensorflow==2.0.0) (1.7.2)\n",
            "Requirement already satisfied: requests<3,>=2.21.0 in /usr/local/lib/python3.6/dist-packages (from tensorboard<2.1.0,>=2.0.0->tensorflow==2.0.0) (2.21.0)\n",
            "Requirement already satisfied: werkzeug>=0.11.15 in /usr/local/lib/python3.6/dist-packages (from tensorboard<2.1.0,>=2.0.0->tensorflow==2.0.0) (1.0.1)\n",
            "Requirement already satisfied: requests-oauthlib>=0.7.0 in /usr/local/lib/python3.6/dist-packages (from google-auth-oauthlib<0.5,>=0.4.1->tensorboard<2.1.0,>=2.0.0->tensorflow==2.0.0) (1.3.0)\n",
            "Requirement already satisfied: rsa<4.1,>=3.1.4 in /usr/local/lib/python3.6/dist-packages (from google-auth<2,>=1.6.3->tensorboard<2.1.0,>=2.0.0->tensorflow==2.0.0) (4.0)\n",
            "Requirement already satisfied: pyasn1-modules>=0.2.1 in /usr/local/lib/python3.6/dist-packages (from google-auth<2,>=1.6.3->tensorboard<2.1.0,>=2.0.0->tensorflow==2.0.0) (0.2.8)\n",
            "Requirement already satisfied: cachetools<3.2,>=2.0.0 in /usr/local/lib/python3.6/dist-packages (from google-auth<2,>=1.6.3->tensorboard<2.1.0,>=2.0.0->tensorflow==2.0.0) (3.1.1)\n",
            "Requirement already satisfied: urllib3<1.25,>=1.21.1 in /usr/local/lib/python3.6/dist-packages (from requests<3,>=2.21.0->tensorboard<2.1.0,>=2.0.0->tensorflow==2.0.0) (1.24.3)\n",
            "Requirement already satisfied: idna<2.9,>=2.5 in /usr/local/lib/python3.6/dist-packages (from requests<3,>=2.21.0->tensorboard<2.1.0,>=2.0.0->tensorflow==2.0.0) (2.8)\n",
            "Requirement already satisfied: certifi>=2017.4.17 in /usr/local/lib/python3.6/dist-packages (from requests<3,>=2.21.0->tensorboard<2.1.0,>=2.0.0->tensorflow==2.0.0) (2019.11.28)\n",
            "Requirement already satisfied: chardet<3.1.0,>=3.0.2 in /usr/local/lib/python3.6/dist-packages (from requests<3,>=2.21.0->tensorboard<2.1.0,>=2.0.0->tensorflow==2.0.0) (3.0.4)\n",
            "Requirement already satisfied: oauthlib>=3.0.0 in /usr/local/lib/python3.6/dist-packages (from requests-oauthlib>=0.7.0->google-auth-oauthlib<0.5,>=0.4.1->tensorboard<2.1.0,>=2.0.0->tensorflow==2.0.0) (3.1.0)\n",
            "Requirement already satisfied: pyasn1>=0.1.3 in /usr/local/lib/python3.6/dist-packages (from rsa<4.1,>=3.1.4->google-auth<2,>=1.6.3->tensorboard<2.1.0,>=2.0.0->tensorflow==2.0.0) (0.4.8)\n",
            "Requirement already satisfied: bert-for-tf2 in /usr/local/lib/python3.6/dist-packages (0.14.1)\n",
            "Requirement already satisfied: py-params>=0.9.6 in /usr/local/lib/python3.6/dist-packages (from bert-for-tf2) (0.9.7)\n",
            "Requirement already satisfied: params-flow>=0.8.0 in /usr/local/lib/python3.6/dist-packages (from bert-for-tf2) (0.8.0)\n",
            "Requirement already satisfied: numpy in /usr/local/lib/python3.6/dist-packages (from params-flow>=0.8.0->bert-for-tf2) (1.18.2)\n",
            "Requirement already satisfied: tqdm in /usr/local/lib/python3.6/dist-packages (from params-flow>=0.8.0->bert-for-tf2) (4.38.0)\n",
            "Requirement already satisfied: sentencepiece in /usr/local/lib/python3.6/dist-packages (0.1.85)\n"
          ],
          "name": "stdout"
        }
      ]
    },
    {
      "cell_type": "code",
      "metadata": {
        "trusted": true,
        "id": "jinUj9ik7yse",
        "colab_type": "code",
        "outputId": "a7ac1e12-b8c1-466b-95bf-227b373221e0",
        "colab": {
          "base_uri": "https://localhost:8080/",
          "height": 52
        }
      },
      "source": [
        "import tensorflow as tf\n",
        "import tensorflow_hub as hub\n",
        "print(\"TF version: \", tf.__version__)\n",
        "print(\"Hub version: \", hub.__version__)"
      ],
      "execution_count": 2,
      "outputs": [
        {
          "output_type": "stream",
          "text": [
            "TF version:  2.0.0\n",
            "Hub version:  0.7.0\n"
          ],
          "name": "stdout"
        }
      ]
    },
    {
      "cell_type": "code",
      "metadata": {
        "trusted": true,
        "id": "o8xxNpou7ysm",
        "colab_type": "code",
        "colab": {}
      },
      "source": [
        "import tensorflow_hub as hub\n",
        "import tensorflow as tf\n",
        "import bert\n",
        "FullTokenizer = bert.bert_tokenization.FullTokenizer\n",
        "from tensorflow.keras.models import Model       # Keras is the new high level API for TensorFlow\n",
        "import math\n",
        "import numpy as np\n",
        "import pandas as pd\n",
        "from scipy.stats import wasserstein_distance"
      ],
      "execution_count": 0,
      "outputs": []
    },
    {
      "cell_type": "markdown",
      "metadata": {
        "id": "TfqjQDMKp3P9",
        "colab_type": "text"
      },
      "source": [
        "### Preparing BERT and Functions\n"
      ]
    },
    {
      "cell_type": "code",
      "metadata": {
        "trusted": true,
        "id": "as1Cu7Th7yst",
        "colab_type": "code",
        "colab": {}
      },
      "source": [
        "max_seq_length = 512  # Your choice here.\n",
        "\n",
        "input_word_ids = tf.keras.layers.Input(shape=(max_seq_length,), dtype=tf.int32,\n",
        "                                       name=\"input_word_ids\")\n",
        "input_mask = tf.keras.layers.Input(shape=(max_seq_length,), dtype=tf.int32,\n",
        "                                   name=\"input_mask\")\n",
        "segment_ids = tf.keras.layers.Input(shape=(max_seq_length,), dtype=tf.int32,\n",
        "                                    name=\"segment_ids\")\n",
        "bert_layer = hub.KerasLayer(\"https://tfhub.dev/tensorflow/bert_en_uncased_L-12_H-768_A-12/1\",\n",
        "                            trainable=True)\n",
        "pooled_output, sequence_output = bert_layer([input_word_ids, input_mask, segment_ids])\n",
        "\n",
        "model = Model(inputs=[input_word_ids, input_mask, segment_ids], outputs=[pooled_output, sequence_output])\n",
        "\n",
        "vocab_file = bert_layer.resolved_object.vocab_file.asset_path.numpy()\n",
        "do_lower_case = bert_layer.resolved_object.do_lower_case.numpy()\n",
        "tokenizer = FullTokenizer(vocab_file, do_lower_case)"
      ],
      "execution_count": 0,
      "outputs": []
    },
    {
      "cell_type": "code",
      "metadata": {
        "trusted": true,
        "id": "gQ5Arwvl7ys0",
        "colab_type": "code",
        "colab": {}
      },
      "source": [
        "# See BERT paper: https://arxiv.org/pdf/1810.04805.pdf\n",
        "# And BERT implementation convert_single_example() at https://github.com/google-research/bert/blob/master/run_classifier.py\n",
        "\n",
        "def get_masks(tokens, max_seq_length):\n",
        "    \"\"\"Mask for padding\"\"\"\n",
        "    if len(tokens)>max_seq_length:\n",
        "        raise IndexError(\"Token length more than max seq length!\")\n",
        "    return [1]*len(tokens) + [0] * (max_seq_length - len(tokens))\n",
        "\n",
        "\n",
        "def get_segments(tokens, max_seq_length):\n",
        "    \"\"\"Segments: 0 for the first sequence, 1 for the second\"\"\"\n",
        "    if len(tokens)>max_seq_length:\n",
        "        raise IndexError(\"Token length more than max seq length!\")\n",
        "    segments = []\n",
        "    current_segment_id = 0\n",
        "    for token in tokens:\n",
        "        segments.append(current_segment_id)\n",
        "        if token == \"[SEP]\":\n",
        "            current_segment_id = 1\n",
        "    return segments + [0] * (max_seq_length - len(tokens))\n",
        "\n",
        "\n",
        "def get_ids(tokens, tokenizer, max_seq_length):\n",
        "    \"\"\"Token ids from Tokenizer vocab\"\"\"\n",
        "    token_ids = tokenizer.convert_tokens_to_ids(tokens)\n",
        "    input_ids = token_ids + [0] * (max_seq_length-len(token_ids))\n",
        "    return input_ids"
      ],
      "execution_count": 0,
      "outputs": []
    },
    {
      "cell_type": "code",
      "metadata": {
        "trusted": true,
        "id": "ACmlB2yr7ys_",
        "colab_type": "code",
        "colab": {}
      },
      "source": [
        "def tokenize_sentence(sentence):\n",
        "    stokens = tokenizer.tokenize(sentence)\n",
        "    stokens = [\"[CLS]\"] + stokens + [\"[SEP]\"]\n",
        "    \n",
        "    input_ids = get_ids(stokens, tokenizer, max_seq_length)\n",
        "    input_masks = get_masks(stokens, max_seq_length)\n",
        "    input_segments = get_segments(stokens, max_seq_length)\n",
        "    \n",
        "    return input_ids, input_masks, input_segments\n",
        "\n",
        "def compare_sentences(sentence_1, sentence_2, distance_metric):\n",
        "    input_ids_1, input_masks_1, input_segments_1 = tokenize_sentence(sentence_1)\n",
        "    input_ids_2, input_masks_2, input_segments_2 = tokenize_sentence(sentence_2)\n",
        "    \n",
        "    pool_embs_1, all_embs_1 = model.predict([[input_ids_1],[input_masks_1],[input_segments_1]])\n",
        "    pool_embs_2, all_embs_2 = model.predict([[input_ids_2],[input_masks_2],[input_segments_2]])\n",
        "#     print(pool_embs_1, all_embs_1)\n",
        "#     print(pool_embs_2, all_embs_2)\n",
        "    return distance_metric(pool_embs_1[0], pool_embs_2[0])\n",
        "\n",
        "def distance_between_sentences(sentence_1, sentence_2, distance_metric):\n",
        "    input_ids_1, input_masks_1, input_segments_1 = tokenize_sentence(sentence_1)\n",
        "    input_ids_2, input_masks_2, input_segments_2 = tokenize_sentence(sentence_2)\n",
        "    pool_embs_1, all_embs_1 = model.predict([[input_ids_1],[input_masks_1],[input_segments_1]])\n",
        "    pool_embs_2, all_embs_2 = model.predict([[input_ids_2],[input_masks_2],[input_segments_2]])\n",
        "    distances = []\n",
        "    for i in range(0,max_seq_length):\n",
        "      distances.append(distance_metric(all_embs_1[0][i], all_embs_2[0][i]))\n",
        "    distance = np.mean(distances)\n",
        "    return distance\n",
        "\n",
        "def get_embs(sentence):\n",
        "    input_ids, input_masks, input_segments = tokenize_sentence(sentence)\n",
        "    pool_embs, all_embs = model.predict([[input_ids],[input_masks],[input_segments]])\n",
        "    return pool_embs, all_embs\n",
        "\n",
        "def square_rooted(x):\n",
        "    return math.sqrt(sum([a*a for a in x]))\n",
        "\n",
        "def cosine_similarity(x,y):\n",
        "    numerator = sum(a*b for a,b in zip(x,y))\n",
        "    denominator = square_rooted(x)*square_rooted(y)\n",
        "    return 1-numerator/float(denominator)\n",
        "\n",
        "def dummy_metric(x,y):\n",
        "    return 42"
      ],
      "execution_count": 0,
      "outputs": []
    },
    {
      "cell_type": "markdown",
      "metadata": {
        "id": "8Qul1odRtje9",
        "colab_type": "text"
      },
      "source": [
        "## Distances"
      ]
    },
    {
      "cell_type": "markdown",
      "metadata": {
        "id": "Vc8DgS51xR22",
        "colab_type": "text"
      },
      "source": [
        "### Natural Language"
      ]
    },
    {
      "cell_type": "code",
      "metadata": {
        "id": "U8w0XXYDw0ty",
        "colab_type": "code",
        "outputId": "846f2576-d80c-4f46-90f0-bab4dd24a9df",
        "colab": {
          "base_uri": "https://localhost:8080/",
          "height": 301
        }
      },
      "source": [
        "s = []\n",
        "s.append('How are you doing?')\n",
        "s.append('How much are we feeling?')\n",
        "s.append('What are you doing?')\n",
        "s.append('What`s up?')\n",
        "s.append('Are you doing?')\n",
        "central = s[0]\n",
        "print(\"Central phrase: '{}'\".format(central))\n",
        "for sentence in s:\n",
        "    print(\"Cosine Distance to '{}' = {}\".format(sentence, round(distance_between_sentences(central, sentence, cosine_similarity), 3)))\n",
        "    print(\"Wasserstein Distance to '{}' = {}\".format(sentence, round(distance_between_sentences(central, sentence, wasserstein_distance), 3)))\n",
        "    print(\"-----------------\")"
      ],
      "execution_count": 42,
      "outputs": [
        {
          "output_type": "stream",
          "text": [
            "Central phrase: 'How are you doing?'\n",
            "Cosine Distance to 'How are you doing?' = -0.0\n",
            "Wasserstein Distance to 'How are you doing?' = 0.0\n",
            "-----------------\n",
            "Cosine Distance to 'How much are we feeling?' = 0.292\n",
            "Wasserstein Distance to 'How much are we feeling?' = 0.066\n",
            "-----------------\n",
            "Cosine Distance to 'What are you doing?' = 0.162\n",
            "Wasserstein Distance to 'What are you doing?' = 0.015\n",
            "-----------------\n",
            "Cosine Distance to 'What`s up?' = 0.275\n",
            "Wasserstein Distance to 'What`s up?' = 0.047\n",
            "-----------------\n",
            "Cosine Distance to 'Are you doing?' = 0.244\n",
            "Wasserstein Distance to 'Are you doing?' = 0.072\n",
            "-----------------\n"
          ],
          "name": "stdout"
        }
      ]
    },
    {
      "cell_type": "markdown",
      "metadata": {
        "id": "h7BABWRdV7KG",
        "colab_type": "text"
      },
      "source": [
        "## Source Code Tokens"
      ]
    },
    {
      "cell_type": "code",
      "metadata": {
        "id": "c_vIcIgNV7KG",
        "colab_type": "code",
        "outputId": "ba195daf-8b6f-425a-fd43-3411e05687d6",
        "colab": {
          "base_uri": "https://localhost:8080/",
          "height": 514
        }
      },
      "source": [
        "w = []\n",
        "w.append('data')\n",
        "w.append('Data')\n",
        "w.append('Data Set')\n",
        "w.append('datadata')\n",
        "w.append('dataset')\n",
        "w.append('DataFrame')\n",
        "w.append('dataframe')\n",
        "w.append('df')\n",
        "w.append('pd.DataFrame')\n",
        "central = w[6]\n",
        "print(\"Central phrase: '{}'\".format(central))\n",
        "for word in w:\n",
        "    print(\"Cosine Distance to '{}' = {}\".format(word, round(distance_between_sentences(central, word, cosine_similarity), 3)))\n",
        "    print(\"Wasserstein Distance to '{}' = {}\".format(word, round(distance_between_sentences(central, word, wasserstein_distance), 3)))\n",
        "    print(\"-----------------\")"
      ],
      "execution_count": 49,
      "outputs": [
        {
          "output_type": "stream",
          "text": [
            "Central phrase: 'dataframe'\n",
            "Cosine Distance to 'data' = 0.214\n",
            "Wasserstein Distance to 'data' = 0.035\n",
            "-----------------\n",
            "Cosine Distance to 'Data' = 0.214\n",
            "Wasserstein Distance to 'Data' = 0.035\n",
            "-----------------\n",
            "Cosine Distance to 'Data Set' = 0.19\n",
            "Wasserstein Distance to 'Data Set' = 0.013\n",
            "-----------------\n",
            "Cosine Distance to 'datadata' = 0.218\n",
            "Wasserstein Distance to 'datadata' = 0.041\n",
            "-----------------\n",
            "Cosine Distance to 'dataset' = 0.141\n",
            "Wasserstein Distance to 'dataset' = 0.02\n",
            "-----------------\n",
            "Cosine Distance to 'DataFrame' = -0.0\n",
            "Wasserstein Distance to 'DataFrame' = 0.0\n",
            "-----------------\n",
            "Cosine Distance to 'dataframe' = -0.0\n",
            "Wasserstein Distance to 'dataframe' = 0.0\n",
            "-----------------\n",
            "Cosine Distance to 'df' = 0.403\n",
            "Wasserstein Distance to 'df' = 0.073\n",
            "-----------------\n",
            "Cosine Distance to 'pd.DataFrame' = 0.186\n",
            "Wasserstein Distance to 'pd.DataFrame' = 0.071\n",
            "-----------------\n"
          ],
          "name": "stdout"
        }
      ]
    },
    {
      "cell_type": "markdown",
      "metadata": {
        "id": "oLSKZ-RyV7KK",
        "colab_type": "text"
      },
      "source": [
        "## Source Code Chunks"
      ]
    },
    {
      "cell_type": "code",
      "metadata": {
        "id": "Ar1Elwc_V7KN",
        "colab_type": "code",
        "outputId": "44893c37-a73b-4304-ed23-e6dbe3570fcc",
        "colab": {
          "base_uri": "https://localhost:8080/",
          "height": 52
        }
      },
      "source": [
        "c = []\n",
        "cnot = []\n",
        "c.append(\"\"\"\n",
        "def apply_window(image, center, width):\n",
        "    image = image.copy()\n",
        "\n",
        "    min_value = center - width // 2\n",
        "    max_value = center + width // 2\n",
        "\n",
        "    image[image < min_value] = min_value\n",
        "    image[image > max_value] = max_value\n",
        "\n",
        "    return image\n",
        "\"\"\")\n",
        "c.append(\"\"\"\n",
        "def image_windowed(image, custom_center=50, custom_width=130, out_side_val=False):\n",
        "    '''\n",
        "    Important thing to note in this function: The image migth be changed in place!\n",
        "    '''\n",
        "    # see: https://www.kaggle.com/allunia/rsna-ih-detection-eda-baseline\n",
        "    min_value = custom_center - (custom_width/2)\n",
        "    max_value = custom_center + (custom_width/2)\n",
        "    \n",
        "    # Including another value for values way outside the range, to (hopefully) make segmentation processes easier. \n",
        "    out_value_min = custom_center - custom_width\n",
        "    out_value_max = custom_center + custom_width\n",
        "    \n",
        "    if out_side_val:\n",
        "        image[np.logical_and(image < min_value, image > out_value_min)] = min_value\n",
        "        image[np.logical_and(image > max_value, image < out_value_max)] = max_value\n",
        "        image[image < out_value_min] = out_value_min\n",
        "        image[image > out_value_max] = out_value_max\n",
        "    \n",
        "    else:\n",
        "        image[image < min_value] = min_value\n",
        "        image[image > max_value] = max_value\n",
        "    \n",
        "    return image\n",
        "\"\"\")\n",
        "c.append(\"\"\"\n",
        "def image_crop(image):\n",
        "    # Based on this stack overflow post: https://stackoverflow.com/questions/26310873/how-do-i-crop-an-image-on-a-white-background-with-python\n",
        "    mask = image == 0\n",
        "\n",
        "    # Find the bounding box of those pixels\n",
        "    coords = np.array(np.nonzero(~mask))\n",
        "    top_left = np.min(coords, axis=1)\n",
        "    bottom_right = np.max(coords, axis=1)\n",
        "\n",
        "    out = image[top_left[0]:bottom_right[0],\n",
        "                top_left[1]:bottom_right[1]]\n",
        "    \n",
        "    return out\n",
        "\"\"\")\n",
        "cnot.append(\"\"\"\n",
        "def normalize_minmax(img):\n",
        "    mi, ma = img.min(), img.max()\n",
        "    return (img - mi) / (ma - mi)\"\"\")\n",
        "cnot.append(\"\"\"def normalize(img, means, stds, tensor=False):\n",
        "    return (img - means)/stds\"\"\")\n",
        "cnot.append(\"\"\"X_train = X_train / 255.0\n",
        "test = test / 255.0\n",
        "mean_px = X_train.mean().astype(np.float32)\n",
        "std_px = X_train.std().astype(np.float32)\"\"\")\n",
        "cnot.append(\"\"\"def standardize(x): \n",
        "    return (x-mean_px)/std_px\"\"\")\n",
        "cnot.append(\"\"\"def rle_decode(mask_rle, shape=(768, 768)):\n",
        "    s = mask_rle.split()\n",
        "    starts, lengths = [np.asarray(x, dtype=int) for x in (s[0:][::2], s[1:][::2])]\n",
        "    starts -= 1\n",
        "    ends = starts + lengths\n",
        "    img = np.zeros(shape[0]*shape[1], dtype=np.uint8)\n",
        "    for lo, hi in zip(starts, ends):\n",
        "        img[lo:hi] = 1\n",
        "    return img.reshape(shape).T  # Needed to align to RLE direction\"\"\")\n",
        "cnot.append(\"\"\"def mask2rle(img):\n",
        "    pixels = img.T.flatten()\n",
        "    pixels = np.concatenate([[0], pixels, [0]])\n",
        "    runs = np.where(pixels[1:] != pixels[:-1])[0] + 1\n",
        "    runs[1::2] -= runs[::2]\n",
        "    return ' '.join(str(x) for x in runs)\"\"\")\n",
        "cnot.append(\"\"\"def deskew(img):\n",
        "    m = cv2.moments(img)\n",
        "    if abs(m['mu02']) < 1e-2:\n",
        "        return img.copy()\n",
        "    skew = m['mu11']/m['mu02']\n",
        "    M = np.float32([[1, skew, -0.5*SZ*skew], [0, 1, 0]])\n",
        "    img = cv2.warpAffine(img,M,(SZ, SZ),flags=affine_flags)\n",
        "    return img\"\"\")\n",
        "cnot.append(\"\"\"image = imageio.imread('../input/image1.jpg')\n",
        "image_rotated = rotate.augment_images([image])\n",
        "image_noise = gaussian_noise.augment_images([image])\n",
        "image_crop = crop.augment_images([image])\n",
        "image_hue = hue.augment_images([image])\n",
        "image_trans = elastic_trans.augment_images([image])\n",
        "image_coarse = coarse_drop.augment_images([image])\"\"\")\n",
        "\n",
        "central = c[0]\n",
        "results_c = []\n",
        "results_c_wasserstein = []\n",
        "for chunk in c:\n",
        "    results_c.append(distance_between_sentences(central, chunk, cosine_similarity))\n",
        "    results_c_wasserstein.append(distance_between_sentences(central, chunk, wasserstein_distance))\n",
        "\n",
        "results_cnot = []\n",
        "results_cnot_wasserstein = []\n",
        "for chunk in cnot:\n",
        "    results_cnot.append(distance_between_sentences(central, chunk, cosine_similarity))\n",
        "    results_cnot_wasserstein.append(distance_between_sentences(central, chunk, wasserstein_distance))\n",
        "    \n",
        "print(np.mean(results_c), np.mean(results_cnot))\n",
        "print(np.mean(results_c_wasserstein), np.mean(results_cnot_wasserstein))"
      ],
      "execution_count": 48,
      "outputs": [
        {
          "output_type": "stream",
          "text": [
            "0.28992930316407933 0.34256187616174183\n",
            "0.06115377509762359 0.05829068909336778\n"
          ],
          "name": "stdout"
        }
      ]
    },
    {
      "cell_type": "markdown",
      "metadata": {
        "id": "2oi3xIwRV7KS",
        "colab_type": "text"
      },
      "source": [
        "## NL2ML Data"
      ]
    },
    {
      "cell_type": "code",
      "metadata": {
        "id": "ds3PdEazV7KY",
        "colab_type": "code",
        "colab": {}
      },
      "source": [
        "nl2ml = pd.read_csv('/content/nl2ml_images.csv')"
      ],
      "execution_count": 0,
      "outputs": []
    },
    {
      "cell_type": "code",
      "metadata": {
        "id": "Kzr3ZCz-V7Kc",
        "colab_type": "code",
        "colab": {}
      },
      "source": [
        "cat_names = nl2ml['Preprocessing class (for doc about methods)'].value_counts().head(5).keys().tolist()"
      ],
      "execution_count": 0,
      "outputs": []
    },
    {
      "cell_type": "code",
      "metadata": {
        "id": "RukTdQJTV7Ke",
        "colab_type": "code",
        "colab": {
          "base_uri": "https://localhost:8080/",
          "height": 123
        },
        "outputId": "3cbb3131-7954-4efd-8a81-efa826e97866"
      },
      "source": [
        "central = nl2ml[(nl2ml['Preprocessing class (for doc about methods)'] == cat_names[1])]['Code'].reset_index(drop=True)[0]\n",
        "results = {\"central\":cat_names[0]}\n",
        "for cat in cat_names:\n",
        "    print(cat)\n",
        "    rows = nl2ml[(nl2ml['Preprocessing class (for doc about methods)'] == cat)].reset_index(drop=True)\n",
        "    chunks = rows['Code']\n",
        "    results_c = []\n",
        "    for chunk in chunks:\n",
        "        if len(chunk) <= 512:\n",
        "            results_c.append(distance_between_sentences(central, chunk, wasserstein_distance))\n",
        "        else: continue\n",
        "    results.update({cat:round(np.mean(results_c), 3)})\n",
        "    del results_c\n",
        "print(results)"
      ],
      "execution_count": 50,
      "outputs": [
        {
          "output_type": "stream",
          "text": [
            "Getting annotations\n",
            "Visualization\n",
            "Augmentation\n",
            "Converting (coordinates)\n",
            "Resizing\n",
            "{'central': 'Getting annotations', 'Getting annotations': 0.069, 'Visualization': 0.062, 'Augmentation': 0.077, 'Converting (coordinates)': 0.062, 'Resizing': 0.074}\n"
          ],
          "name": "stdout"
        }
      ]
    },
    {
      "cell_type": "code",
      "metadata": {
        "id": "izdGeYHu2_VE",
        "colab_type": "code",
        "outputId": "e15ca722-cd75-449c-8a90-52126859a50e",
        "colab": {
          "base_uri": "https://localhost:8080/",
          "height": 123
        }
      },
      "source": [
        "results"
      ],
      "execution_count": 51,
      "outputs": [
        {
          "output_type": "execute_result",
          "data": {
            "text/plain": [
              "{'Augmentation': 0.077,\n",
              " 'Converting (coordinates)': 0.062,\n",
              " 'Getting annotations': 0.069,\n",
              " 'Resizing': 0.074,\n",
              " 'Visualization': 0.062,\n",
              " 'central': 'Getting annotations'}"
            ]
          },
          "metadata": {
            "tags": []
          },
          "execution_count": 51
        }
      ]
    },
    {
      "cell_type": "markdown",
      "metadata": {
        "id": "8HOrE2VurBvs",
        "colab_type": "text"
      },
      "source": [
        "!!! Very little amount of data used here"
      ]
    },
    {
      "cell_type": "markdown",
      "metadata": {
        "id": "uagdJ4dzpq7m",
        "colab_type": "text"
      },
      "source": [
        "## Chunks into Embeddings\n",
        "Use __get_embs(chunk)__ to get embedding for a chunk\n",
        "\n",
        "Use __distance_between_sentences(chunk_1, chunk_2, distance_metric)__ to get distance between two chunks"
      ]
    },
    {
      "cell_type": "code",
      "metadata": {
        "id": "dEYcvO6ZqUlt",
        "colab_type": "code",
        "colab": {}
      },
      "source": [
        "sc_chunk_1 = \"\"\"\n",
        "def apply_window(image, center, width):\n",
        "    image = image.copy()\n",
        "\n",
        "    min_value = center - width // 2\n",
        "    max_value = center + width // 2\n",
        "\n",
        "    image[image < min_value] = min_value\n",
        "    image[image > max_value] = max_value\n",
        "\n",
        "    return image\n",
        "\"\"\"\n",
        "sc_chunk_2 = \"\"\"\n",
        "def normalize_minmax(img):\n",
        "    mi, ma = img.min(), img.max()\n",
        "    return (img - mi) / (ma - mi)\n",
        "\"\"\"\n",
        "sc_chunk_3 = \"\"\"\n",
        "def lalalalallalalala:\n",
        "  np.argmax([1,2,3,4,5,6,7,8,9,10])\n",
        "\"\"\""
      ],
      "execution_count": 0,
      "outputs": []
    },
    {
      "cell_type": "code",
      "metadata": {
        "id": "fDunlg5wppJV",
        "colab_type": "code",
        "colab": {}
      },
      "source": [
        "pool_embs, all_embs = get_embs(sc_chunk_1)"
      ],
      "execution_count": 0,
      "outputs": []
    },
    {
      "cell_type": "code",
      "metadata": {
        "id": "2gc8vCEWqZFK",
        "colab_type": "code",
        "colab": {
          "base_uri": "https://localhost:8080/",
          "height": 52
        },
        "outputId": "de315399-4d84-4a49-ccb0-d9938d6b5d0e"
      },
      "source": [
        "print(distance_between_sentences(sc_chunk_1, sc_chunk_2, cosine_similarity))\n",
        "print(distance_between_sentences(sc_chunk_1, sc_chunk_2, wasserstein_distance))"
      ],
      "execution_count": 55,
      "outputs": [
        {
          "output_type": "stream",
          "text": [
            "0.33366158501913135\n",
            "0.05372519776344532\n"
          ],
          "name": "stdout"
        }
      ]
    },
    {
      "cell_type": "code",
      "metadata": {
        "id": "Ipyfdu4xx3K_",
        "colab_type": "code",
        "colab": {
          "base_uri": "https://localhost:8080/",
          "height": 52
        },
        "outputId": "362e6b12-2ef9-4df5-b7ff-6304143ae656"
      },
      "source": [
        "print(distance_between_sentences(sc_chunk_2, sc_chunk_3, cosine_similarity))\n",
        "print(distance_between_sentences(sc_chunk_2, sc_chunk_3, wasserstein_distance))"
      ],
      "execution_count": 56,
      "outputs": [
        {
          "output_type": "stream",
          "text": [
            "0.4874605344472024\n",
            "0.055971320470390606\n"
          ],
          "name": "stdout"
        }
      ]
    },
    {
      "cell_type": "code",
      "metadata": {
        "id": "3nLGMMK5x4Mt",
        "colab_type": "code",
        "colab": {
          "base_uri": "https://localhost:8080/",
          "height": 52
        },
        "outputId": "84708a22-9089-4b61-e38b-849db95245be"
      },
      "source": [
        "print(distance_between_sentences(sc_chunk_1, sc_chunk_3, cosine_similarity))\n",
        "print(distance_between_sentences(sc_chunk_1, sc_chunk_3, wasserstein_distance))"
      ],
      "execution_count": 57,
      "outputs": [
        {
          "output_type": "stream",
          "text": [
            "0.5361630921223379\n",
            "0.06683835241049466\n"
          ],
          "name": "stdout"
        }
      ]
    },
    {
      "cell_type": "markdown",
      "metadata": {
        "id": "WZSA5FW7pt7s",
        "colab_type": "text"
      },
      "source": [
        "## Creating Source Code Dataset"
      ]
    },
    {
      "cell_type": "code",
      "metadata": {
        "id": "uNMxMypsx63n",
        "colab_type": "code",
        "colab": {}
      },
      "source": [
        ""
      ],
      "execution_count": 0,
      "outputs": []
    }
  ]
}