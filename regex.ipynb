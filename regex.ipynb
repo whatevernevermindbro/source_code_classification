{
  "nbformat": 4,
  "nbformat_minor": 0,
  "metadata": {
    "kernelspec": {
      "display_name": "Python 3.8.5 32-bit",
      "language": "python",
      "name": "python_defaultSpec_1597079712235"
    },
    "language_info": {
      "codemirror_mode": {
        "name": "ipython",
        "version": 3
      },
      "file_extension": ".py",
      "mimetype": "text/x-python",
      "name": "python",
      "nbconvert_exporter": "python",
      "pygments_lexer": "ipython3",
      "version": "3.7.0"
    },
    "colab": {
      "name": "NL2ML: Regex Labeling.ipynb",
      "provenance": [],
      "collapsed_sections": [],
      "toc_visible": true
    }
  },
  "cells": [
    {
      "cell_type": "markdown",
      "metadata": {
        "id": "PWhsBC6njw8W",
        "colab_type": "text"
      },
      "source": [
        "# Regex Labeling"
      ]
    },
    {
      "cell_type": "markdown",
      "metadata": {
        "id": "QPPqGHrljw8Z",
        "colab_type": "text"
      },
      "source": [
        "## Data Loading"
      ]
    },
    {
      "cell_type": "code",
      "metadata": {
        "colab_type": "code",
        "id": "VDXoZ7h3o7a2",
        "colab": {}
      },
      "source": [
        "import pandas as pd\n",
        "import numpy as np\n",
        "import re"
      ],
      "execution_count": 1,
      "outputs": []
    },
    {
      "cell_type": "code",
      "metadata": {
        "colab_type": "code",
        "id": "a_CklmUL35at",
        "colab": {}
      },
      "source": [
        "KK_PATH = './data/'\n",
        "DATASET_PATH = 'code_blocks_clean.csv' ## CODE_COLUMN = 'code_block'\n",
        "# DATASET_PATH = 'chunks_30_final.csv' ## CODE_COLUMN = 'code'\n",
        "# DATASET_PATH = 'nl2ml preprocessing (united).csv' ## CODE_COLUMN = 'Code'\n",
        "NEW_DATASET_PATH = DATASET_PATH[:-4] + '_regex.csv'\n",
        "CODE_COLUMN = 'code_block'"
      ],
      "execution_count": 2,
      "outputs": []
    },
    {
      "cell_type": "code",
      "metadata": {
        "colab_type": "code",
        "id": "uNMxMypsx63n",
        "colab": {}
      },
      "source": [
        "# df = pd.read_csv(KK_PATH + 'code_blocks.csv', sep='\\t')\n",
        "# df = df.dropna()\n",
        "# df = df.drop_duplicates()\n",
        "# df = df.reset_index(drop=True)\n",
        "# df['code_block_length'] = np.zeros(len(df))\n",
        "# for i in range(len(df)):\n",
        "#     df['code_block_length'][i] = len(df['code_block'][i])\n",
        "#     print(str(i)+'\\r', end='')\n",
        "# df = df.drop(df[df['code_block_length'] > 512].index)\n",
        "# df.shape\n",
        "# df.to_csv(KK_PATH + 'code_blocks_prepared.csv', sep='\\t', index=False)"
      ],
      "execution_count": 3,
      "outputs": []
    },
    {
      "cell_type": "code",
      "metadata": {
        "colab_type": "code",
        "id": "cvyM07BJsvwg",
        "colab": {}
      },
      "source": [
        "# df = pd.read_csv(KK_PATH + 'code_blocks_prepared.csv', sep='\\t')\n",
        "# df.shape"
      ],
      "execution_count": 4,
      "outputs": []
    },
    {
      "cell_type": "code",
      "metadata": {
        "id": "hGfSdj5Ajw9B",
        "colab_type": "code",
        "colab": {
          "base_uri": "https://localhost:8080/",
          "height": 475
        },
        "outputId": "1ff38a33-c3aa-4d80-e508-288a22df37ca"
      },
      "source": [
        "import csv\n",
        "df = pd.read_csv(KK_PATH + DATASET_PATH, encoding='utf-8', sep='\\t')#, error_bad_lines=False, sep=',')#quoting=csv.QUOTE_NONE,"
      ],
      "execution_count": 5,
      "outputs": []
    },
    {
      "cell_type": "code",
      "metadata": {
        "id": "bv-ZljZASnW4",
        "colab_type": "code",
        "colab": {}
      },
      "source": [
        "df = df.dropna(subset=[CODE_COLUMN]).reset_index()"
      ],
      "execution_count": 6,
      "outputs": []
    },
    {
      "cell_type": "code",
      "metadata": {
        "id": "lUXaQ1wpjw9U",
        "colab_type": "code",
        "colab": {}
      },
      "source": [
        "def wordListToFreqDict(wordlist):\n",
        "    def sortFreqDict(freqdict):\n",
        "        aux = [(freqdict[key], key) for key in freqdict]\n",
        "        aux.sort()\n",
        "        aux.reverse()\n",
        "        return aux\n",
        "    wordfreq = [wordlist.count(p) for p in wordlist]\n",
        "    return sortFreqDict(dict(list(zip(wordlist,wordfreq))))"
      ],
      "execution_count": 7,
      "outputs": []
    },
    {
      "cell_type": "code",
      "metadata": {
        "id": "XiRkUliHlpWx",
        "colab_type": "code",
        "colab": {}
      },
      "source": [
        "# tokens = (\" \".join(\" \".join(df['Code'].to_list()).split('\\n')).split('.'))#.split('')\n",
        "# wordListToFreqDict(tokens)"
      ],
      "execution_count": 8,
      "outputs": []
    },
    {
      "cell_type": "code",
      "metadata": {
        "id": "GNbO3HXwjw9f",
        "colab_type": "code",
        "colab": {}
      },
      "source": [
        "# %%time\n",
        "# wordListToFreqDict(df.code.to_string())"
      ],
      "execution_count": 9,
      "outputs": []
    },
    {
      "cell_type": "code",
      "metadata": {
        "id": "h7-lyPQDjw9o",
        "colab_type": "code",
        "colab": {}
      },
      "source": [
        "# %%time\n",
        "# nl2ml = pd.read_csv(KK_PATH + 'nl2ml.csv')\n",
        "# nl2ml = nl2ml.rename({'':'code_block', '':'method_tag'})\n",
        "# nl2ml_vis = nl2ml[nl2ml['method_tag'] == 'Visualization']\n",
        "# tokens_visualization = wordListToFreqDict(nl2ml_vis.code_block.to_string())"
      ],
      "execution_count": 10,
      "outputs": []
    },
    {
      "cell_type": "code",
      "metadata": {
        "id": "cgMUp6qVTiiE",
        "colab_type": "code",
        "colab": {
          "base_uri": "https://localhost:8080/",
          "height": 33
        },
        "outputId": "c7f571c7-d4d9-4aad-eeec-acc0263bfbb6"
      },
      "source": [
        "df[CODE_COLUMN][0]"
      ],
      "execution_count": 11,
      "outputs": [
        {
          "output_type": "execute_result",
          "data": {
            "text/plain": "\"\\nimport pandas as pd\\nimport matplotlib.pyplot as plt\\nimport seaborn as sns\\nimport numpy as np\\nfrom scipy.stats import norm\\nfrom sklearn.preprocessing import StandardScaler\\nfrom scipy import stats\\nimport warnings\\nwarnings.filterwarnings('ignore')\\n%matplotlib inline,\""
          },
          "metadata": {},
          "execution_count": 11
        }
      ]
    },
    {
      "cell_type": "code",
      "metadata": {
        "colab_type": "code",
        "id": "8DdGpT3GwvWo",
        "colab": {}
      },
      "source": [
        "def tokens_search(df, tokens, new_column_name):\n",
        "    df[new_column_name] = 0\n",
        "    for i in range(len(df)):\n",
        "        percents = str(round(100*i/len(df),1))\n",
        "        print(percents + '%\\r', end='')\n",
        "        row = df[CODE_COLUMN][i]\n",
        "        for token in tokens:\n",
        "            result = re.search(token, row)\n",
        "            if result!=None:\n",
        "                df[new_column_name][i] = 1\n",
        "                break\n",
        "    return df"
      ],
      "execution_count": 12,
      "outputs": []
    },
    {
      "cell_type": "markdown",
      "metadata": {
        "id": "BssLlwj4jw9-",
        "colab_type": "text"
      },
      "source": [
        "## Regex Labels"
      ]
    },
    {
      "cell_type": "code",
      "metadata": {
        "id": "DGlXzCKhjw-J",
        "colab_type": "code",
        "colab": {}
      },
      "source": [
        "graph = {\"imports\": [\"import \", \" from \"]\n",
        "          ,\"data_load\": [\".load\", \"_load\", \"_dump\", \"load_\", \".csv\", \"glob\", \"pickle.\", \"read_\", \"download\", \".txt\", \".json\", \".png\", \".jpg\", \".jpeg\"]\n",
        "\n",
        "          ,\"preprocessing\": [\"train_test_split\\(\", \"Normalizer\\(\", \"StandardScaler\\(\", \"normalize\\(\", \"scale\\(\", \"DictVectorizer\\(\", \"CountVectorizer\\(\", \"HashingVectorizer\\(\", \"TfidfVectorizer\\(\", \"Stemmer\\(\", \"Lemmatizer\\(\", \"convert\", \".resize\", \"encode\\(\", \".fill\\(\", \".fillna\\(\", \".concat\", \"merge\"\n",
        "                              ,\"train_test_split \\(\", \"Normalizer \\(\", \"StandardScaler \\(\", \"normalize \\(\", \"scale \\(\", \"DictVectorizer \\(\", \"CountVectorizer \\(\", \"HashingVectorizer \\(\", \"TfidfVectorizer \\(\", \"Stemmer \\(\", \"Lemmatizer \\(\", \"encode \\(\", \".fill \\(\", \".fillna \\(\"]\n",
        "\n",
        "          ,\"visualization\": [\"plot.\", \"plt.\", \"graph\", \"histogram\", \"hist\", \"sns.\", \"plotline\", \"chart\", \"diagram\", \"heatmap\", \"figure\", \"plot_tree\\(\", \"plot_tree \\(\"]\n",
        "\n",
        "          ,\"model\": [\"LinearRegression\\(\", \"RandomForest\\(\", \"Ridge\\(\", \"RidgeCV\\(\", \"RidgeClassifier\\(\", \"RidgeClassifierCV\\(\", \"Lasso\\(\", \"SGD\\(\", \"LogisticRegression\\(\", \"LogisticRegressionCV\\(\", \"SVC\\(\", \"SVR\\(\", \"Layer\\(\", \"XGboost\\(\", \"LGBM\\(\", \"CatBoost\\(\"\n",
        "                      , \"Perceptron\\(\", \"KNeighborsRegressor\\(\", \"KNeighborsClassifier\\(\", \"SGDRegressor\\(\", \"ElasticNet\\(\", \"ElasticNetCV\\(\", \"KMeans\\(\", \"AgglomerativeClustering\\(\", \"SpectralClustering\\(\", \"CategoricalNB\\(\", \"ComplementNB\\(\", \"DecisionTreeClassifier\\(\", \"DecisionTreeRegressor\\(\"\n",
        "                      ,\"LinearRegression \\(\", \"RandomForest \\(\", \"Ridge \\(\", \"RidgeCV \\(\", \"RidgeClassifier \\(\", \"RidgeClassifierCV \\(\", \"Lasso \\(\", \"SGD \\(\", \"LogisticRegression \\(\", \"LogisticRegressionCV \\(\", \"SVC \\(\", \"SVR \\(\", \"Layer \\(\", \"XGboost \\(\", \"LGBM \\(\", \"CatBoost \\(\"\n",
        "                      , \"Perceptron \\(\", \"KNeighborsRegressor \\(\", \"KNeighborsClassifier \\(\", \"SGDRegressor \\(\", \"ElasticNet \\(\", \"ElasticNetCV \\(\", \"KMeans \\(\", \"AgglomerativeClustering \\(\", \"SpectralClustering \\(\", \"CategoricalNB \\(\", \"ComplementNB \\(\", \"DecisionTreeClassifier \\(\", \"DecisionTreeRegressor \\(\"]\n",
        "\n",
        "          ,\"train\": [\".fit_transform\", \".fit\", \"epoch\", \"loss\", \"optimizer\"]\n",
        "\n",
        "          ,\"predict\": [\".predict\", \"_error\", \".mean_\", \"_score\", \"_distance\"]\n",
        "}"
      ],
      "execution_count": 37,
      "outputs": []
    },
    {
      "cell_type": "code",
      "metadata": {
        "id": "1TlTFwwHjw-t",
        "colab_type": "code",
        "colab": {
          "base_uri": "https://localhost:8080/",
          "height": 228
        },
        "outputId": "3766230b-ab98-4e48-c72c-4667c5fd229a",
        "tags": []
      },
      "source": [
        "%%time\n",
        "for i in range(0, len(graph)):\n",
        "    vertice = list(graph.keys())[i]\n",
        "    print('\\n' + vertice)\n",
        "    tokens = graph[vertice]\n",
        "    df = tokens_search(df, tokens, vertice)"
      ],
      "execution_count": 38,
      "outputs": [
        {
          "output_type": "stream",
          "name": "stdout",
          "text": "\nimports\n100.0%\nload_data\n100.0%\npreprocessing\n100.0%\nmodel\n100.0%\ntrain\n100.0%\npredict\nWall time: 4min 14s\n"
        }
      ]
    },
    {
      "cell_type": "code",
      "execution_count": 39,
      "metadata": {},
      "outputs": [
        {
          "output_type": "execute_result",
          "data": {
            "text/plain": "0    158274\n1     67780\nName: preprocessing, dtype: int64"
          },
          "metadata": {},
          "execution_count": 39
        }
      ],
      "source": [
        "df['preprocessing'].value_counts()"
      ]
    },
    {
      "cell_type": "code",
      "metadata": {
        "id": "zQuwy7Exjw_D",
        "colab_type": "code",
        "colab": {}
      },
      "source": [
        "# df.to_csv(NEW_DATASET_PATH, index=False)"
      ],
      "execution_count": 32,
      "outputs": []
    },
    {
      "cell_type": "code",
      "metadata": {
        "id": "xWYhQybHUZEj",
        "colab_type": "code",
        "colab": {}
      },
      "source": [
        "# for col in list(graph.keys()):\n",
        "#     display(df[df['Data format'] == 'Table'][col].value_counts())"
      ],
      "execution_count": 17,
      "outputs": []
    },
    {
      "cell_type": "markdown",
      "metadata": {
        "id": "sZWJu_w-jw_M",
        "colab_type": "text"
      },
      "source": [
        "#### Tag: Import-Output"
      ]
    },
    {
      "cell_type": "code",
      "metadata": {
        "colab_type": "code",
        "id": "1VhsSVhWj1Wx",
        "colab": {}
      },
      "source": [
        "# # TAG: input_output\n",
        "# tokens_io = ['read', 'csv' , 'sql' , 'json' , 'png' , 'jpg' ,\n",
        "#           'tsv' , 'write' , 'open' , 'print' , 'output' ,\n",
        "#           'stdin' , 'stdout' , 'path' , 'dir'\n",
        "# #            , 'import'\n",
        "#           ]"
      ],
      "execution_count": 18,
      "outputs": []
    },
    {
      "cell_type": "code",
      "metadata": {
        "scrolled": true,
        "id": "oIYzl0Bwjw_U",
        "colab_type": "code",
        "colab": {}
      },
      "source": [
        "# %%time\n",
        "# df = tokens_search(df, tokens_io, 'tag_import_output')"
      ],
      "execution_count": 19,
      "outputs": []
    },
    {
      "cell_type": "code",
      "metadata": {
        "id": "diTbzz9Sjw_c",
        "colab_type": "code",
        "colab": {}
      },
      "source": [
        "# df.to_csv(KK_PATH + 'chunks_30_tag_io.csv', index=False)"
      ],
      "execution_count": 20,
      "outputs": []
    },
    {
      "cell_type": "markdown",
      "metadata": {
        "id": "cPT_98Utjw_s",
        "colab_type": "text"
      },
      "source": [
        "#### Tag: Visualization"
      ]
    },
    {
      "cell_type": "code",
      "metadata": {
        "id": "_rd3Pel4jw_t",
        "colab_type": "code",
        "colab": {}
      },
      "source": [
        "# tokens_visualization = ['plot', 'hist', 'sns.', 'plt.']"
      ],
      "execution_count": 21,
      "outputs": []
    },
    {
      "cell_type": "code",
      "metadata": {
        "id": "F_D1XekBjw_y",
        "colab_type": "code",
        "colab": {}
      },
      "source": [
        "# %%time\n",
        "# df = tokens_search(df, tokens_visualization, 'tag_visualization')"
      ],
      "execution_count": 22,
      "outputs": []
    },
    {
      "cell_type": "code",
      "metadata": {
        "id": "TmhBqcjSjw_8",
        "colab_type": "code",
        "colab": {}
      },
      "source": [
        "# df.to_csv(KK_PATH + 'chunks_30_tags.csv', index=False)"
      ],
      "execution_count": 23,
      "outputs": []
    }
  ]
}