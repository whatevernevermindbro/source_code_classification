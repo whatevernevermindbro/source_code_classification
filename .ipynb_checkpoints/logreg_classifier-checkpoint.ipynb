{
 "cells": [
  {
   "cell_type": "code",
   "execution_count": null,
   "metadata": {
    "colab": {},
    "colab_type": "code",
    "id": "YBkPvqU1iJMY"
   },
   "outputs": [],
   "source": [
    "import pandas as pd\n",
    "import numpy as np\n",
    "import matplotlib.pyplot as plt\n",
    "import scipy.stats\n",
    "\n",
    "from sklearn.feature_extraction.text import TfidfVectorizer\n",
    "from sklearn.linear_model import LogisticRegression\n",
    "from sklearn.model_selection import train_test_split\n",
    "from sklearn import metrics"
   ]
  },
  {
   "cell_type": "code",
   "execution_count": null,
   "metadata": {
    "colab": {},
    "colab_type": "code",
    "id": "a_CklmUL35at"
   },
   "outputs": [],
   "source": [
    "KK_PATH = '/content/'\n",
    "DATASET_PATH = 'code_blocks_prepared.csv' ## CODE_COLUMN = 'code_block'\n",
    "# DATASET_PATH = 'chunks_30_final.csv' ## CODE_COLUMN = 'code'\n",
    "# DATASET_PATH = 'nl2ml preprocessing (united).csv' ## CODE_COLUMN = 'Code'\n",
    "NEW_DATASET_PATH = DATASET_PATH[:-4] + '_regex.csv'\n",
    "CODE_COLUMN = 'code_block'"
   ]
  },
  {
   "cell_type": "markdown",
   "metadata": {
    "colab_type": "text",
    "id": "lbCPRMjSjxAD"
   },
   "source": [
    "### TF-IDF + Log Reg"
   ]
  },
  {
   "cell_type": "code",
   "execution_count": null,
   "metadata": {
    "colab": {
     "base_uri": "https://localhost:8080/",
     "height": 508
    },
    "colab_type": "code",
    "id": "nr3jj2uujxAO",
    "outputId": "791f92e3-8a65-4e82-f6c5-caf512de6592"
   },
   "outputs": [],
   "source": [
    "df = pd.read_csv(NEW_DATASET_PATH, encoding='utf-8',comment='#', quoting=csv.QUOTE_NONE, error_bad_lines=False)#, sep=','"
   ]
  },
  {
   "cell_type": "code",
   "execution_count": null,
   "metadata": {
    "colab": {
     "base_uri": "https://localhost:8080/",
     "height": 191
    },
    "colab_type": "code",
    "id": "WhVKLqZBykyu",
    "outputId": "33c62b66-7005-40a4-c95e-cce2910e32cd"
   },
   "outputs": [],
   "source": [
    "df.head()"
   ]
  },
  {
   "cell_type": "code",
   "execution_count": null,
   "metadata": {
    "colab": {
     "base_uri": "https://localhost:8080/",
     "height": 212
    },
    "colab_type": "code",
    "id": "2oxgBcvxxlMC",
    "outputId": "d4955e56-06a5-4cfc-80a5-c3c3de4ae8c6"
   },
   "outputs": [],
   "source": [
    "df['preprocessing'].value_counts()"
   ]
  },
  {
   "cell_type": "code",
   "execution_count": null,
   "metadata": {
    "colab": {},
    "colab_type": "code",
    "id": "TDLwm5UPjxAX"
   },
   "outputs": [],
   "source": [
    "corpus = df[CODE_COLUMN]\n",
    "test_size = 0.1\n",
    "test_rows = round(df.shape[0]*test_size)\n",
    "train_rows = df.shape[0] - test_rows\n",
    "train_corpus = df[CODE_COLUMN][0:test_rows]\n",
    "test_corpus = df[CODE_COLUMN][train_rows:]\n",
    "tag_to_predict = 'preprocessing'"
   ]
  },
  {
   "cell_type": "code",
   "execution_count": null,
   "metadata": {
    "colab": {
     "base_uri": "https://localhost:8080/",
     "height": 345
    },
    "colab_type": "code",
    "id": "rkZxucYdjxAd",
    "outputId": "80421fe6-ac85-496a-fa5e-064c917120b5"
   },
   "outputs": [],
   "source": [
    "tfidf = TfidfVectorizer(min_df=5\n",
    "                        , max_df = 0.3\n",
    "                        , ngram_range = (1,2)\n",
    "                        , smooth_idf = True\n",
    "                       )\n",
    "features = tfidf.fit_transform(corpus)\n",
    "# for_pred = tfidf.transform(test_corpus)"
   ]
  },
  {
   "cell_type": "code",
   "execution_count": null,
   "metadata": {
    "colab": {},
    "colab_type": "code",
    "id": "-clcrT5-jxAl"
   },
   "outputs": [],
   "source": [
    "%time\n",
    "X_train, X_test, y_train, y_test = train_test_split(features[0:len(df[tag_to_predict])], df[tag_to_predict], test_size=0.25)\n",
    "clf = LogisticRegression(random_state=421).fit(X_train, y_train)\n",
    "# clf.fit(X_train, y_train)\n",
    "y_pred = clf.predict(X_test)\n",
    "accuracy = clf.score(X_test, y_test)\n",
    "print(f'Mean Accuracy {round(accuracy*100, 2)}%')\n",
    "print(f'F1-score {round(metrics.f1_score(y_pred, y_test)*100, 2)}%')"
   ]
  },
  {
   "cell_type": "code",
   "execution_count": null,
   "metadata": {
    "colab": {},
    "colab_type": "code",
    "id": "h8S5D5vSbCes"
   },
   "outputs": [],
   "source": [
    "errors = y_test - y_pred\n",
    "plt.hist(errors)"
   ]
  },
  {
   "cell_type": "code",
   "execution_count": null,
   "metadata": {
    "colab": {},
    "colab_type": "code",
    "id": "Yy4P-YwhjxAw"
   },
   "outputs": [],
   "source": [
    "metrics.plot_precision_recall_curve(clf, X_test, y_test)"
   ]
  },
  {
   "cell_type": "code",
   "execution_count": null,
   "metadata": {
    "colab": {},
    "colab_type": "code",
    "id": "gwK-MPYWjxBP",
    "scrolled": true
   },
   "outputs": [],
   "source": [
    "metrics.plot_confusion_matrix(clf, X_test, y_test, values_format='d')"
   ]
  },
  {
   "cell_type": "code",
   "execution_count": null,
   "metadata": {
    "colab": {
     "base_uri": "https://localhost:8080/",
     "height": 33
    },
    "colab_type": "code",
    "id": "gTpvaXPad4Lj",
    "outputId": "a505f48a-7b2c-43b5-b740-b3317c804b1f"
   },
   "outputs": [],
   "source": [
    "def mean_confidence_interval(data, confidence=0.95):\n",
    "    a = 1.0 * np.array(data)\n",
    "    n = len(a)\n",
    "    m, se = np.mean(a), scipy.stats.sem(a)\n",
    "    h = se * scipy.stats.t.ppf((1 + confidence) / 2., n-1)\n",
    "    return m, m-h, m+h\n",
    "mean_confidence_interval(errors, 0.95)"
   ]
  },
  {
   "cell_type": "code",
   "execution_count": null,
   "metadata": {
    "colab": {},
    "colab_type": "code",
    "id": "d1rIH7pBtjFq"
   },
   "outputs": [],
   "source": []
  }
 ],
 "metadata": {
  "colab": {
   "collapsed_sections": [],
   "name": "NL2ML: LogReg.ipynb",
   "provenance": [],
   "toc_visible": true
  },
  "kernelspec": {
   "display_name": "Python 3",
   "language": "python",
   "name": "python3"
  },
  "language_info": {
   "codemirror_mode": {
    "name": "ipython",
    "version": 3
   },
   "file_extension": ".py",
   "mimetype": "text/x-python",
   "name": "python",
   "nbconvert_exporter": "python",
   "pygments_lexer": "ipython3",
   "version": "3.7.0"
  }
 },
 "nbformat": 4,
 "nbformat_minor": 1
}
