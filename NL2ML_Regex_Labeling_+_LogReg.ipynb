{
  "nbformat": 4,
  "nbformat_minor": 0,
  "metadata": {
    "kernelspec": {
      "display_name": "Python 3",
      "language": "python",
      "name": "python3"
    },
    "language_info": {
      "codemirror_mode": {
        "name": "ipython",
        "version": 3
      },
      "file_extension": ".py",
      "mimetype": "text/x-python",
      "name": "python",
      "nbconvert_exporter": "python",
      "pygments_lexer": "ipython3",
      "version": "3.7.0"
    },
    "colab": {
      "name": "NL2ML: Regex Labeling + LogReg.ipynb",
      "provenance": [],
      "collapsed_sections": [],
      "toc_visible": true
    }
  },
  "cells": [
    {
      "cell_type": "markdown",
      "metadata": {
        "id": "PWhsBC6njw8W",
        "colab_type": "text"
      },
      "source": [
        "# Regex Labeling"
      ]
    },
    {
      "cell_type": "markdown",
      "metadata": {
        "id": "QPPqGHrljw8Z",
        "colab_type": "text"
      },
      "source": [
        "## Data Loading"
      ]
    },
    {
      "cell_type": "code",
      "metadata": {
        "colab_type": "code",
        "id": "VDXoZ7h3o7a2",
        "colab": {}
      },
      "source": [
        "import pandas as pd\n",
        "import numpy as np\n",
        "import re"
      ],
      "execution_count": 0,
      "outputs": []
    },
    {
      "cell_type": "code",
      "metadata": {
        "colab_type": "code",
        "id": "a_CklmUL35at",
        "colab": {}
      },
      "source": [
        "KK_PATH = '/content/'\n",
        "DATASET_PATH = 'code_blocks_final_clean.csv' ## CODE_COLUMN = 'code_block'\n",
        "# DATASET_PATH = 'chunks_30_final.csv' ## CODE_COLUMN = 'code'\n",
        "# DATASET_PATH = 'nl2ml preprocessing (united).csv' ## CODE_COLUMN = 'Code'\n",
        "NEW_DATASET_PATH = DATASET_PATH[:-4] + '_regex.csv'\n",
        "CODE_COLUMN = 'code_block'"
      ],
      "execution_count": 0,
      "outputs": []
    },
    {
      "cell_type": "code",
      "metadata": {
        "colab_type": "code",
        "id": "uNMxMypsx63n",
        "colab": {}
      },
      "source": [
        "# df = pd.read_csv(KK_PATH + 'code_blocks.csv', sep='\\t')\n",
        "# df = df.dropna()\n",
        "# df = df.drop_duplicates()\n",
        "# df = df.reset_index(drop=True)\n",
        "# df['code_block_length'] = np.zeros(len(df))\n",
        "# for i in range(len(df)):\n",
        "#     df['code_block_length'][i] = len(df['code_block'][i])\n",
        "#     print(str(i)+'\\r', end='')\n",
        "# df = df.drop(df[df['code_block_length'] > 512].index)\n",
        "# df.shape\n",
        "# df.to_csv(KK_PATH + 'code_blocks_prepared.csv', sep='\\t', index=False)"
      ],
      "execution_count": 0,
      "outputs": []
    },
    {
      "cell_type": "code",
      "metadata": {
        "colab_type": "code",
        "id": "cvyM07BJsvwg",
        "colab": {}
      },
      "source": [
        "# df = pd.read_csv(KK_PATH + 'code_blocks_prepared.csv', sep='\\t')\n",
        "# df.shape"
      ],
      "execution_count": 0,
      "outputs": []
    },
    {
      "cell_type": "code",
      "metadata": {
        "id": "hGfSdj5Ajw9B",
        "colab_type": "code",
        "colab": {}
      },
      "source": [
        "df = pd.read_csv(KK_PATH + DATASET_PATH, sep=',')"
      ],
      "execution_count": 0,
      "outputs": []
    },
    {
      "cell_type": "code",
      "metadata": {
        "id": "RT7UtDf8jw9M",
        "colab_type": "code",
        "outputId": "56f27c23-8926-42a2-c9a7-8ee67ca9e50c",
        "colab": {
          "base_uri": "https://localhost:8080/",
          "height": 34
        }
      },
      "source": [
        "df.shape"
      ],
      "execution_count": 6,
      "outputs": [
        {
          "output_type": "execute_result",
          "data": {
            "text/plain": [
              "(221803, 3)"
            ]
          },
          "metadata": {
            "tags": []
          },
          "execution_count": 6
        }
      ]
    },
    {
      "cell_type": "code",
      "metadata": {
        "id": "bv-ZljZASnW4",
        "colab_type": "code",
        "colab": {}
      },
      "source": [
        "df = df.dropna(subset=[CODE_COLUMN]).reset_index()"
      ],
      "execution_count": 0,
      "outputs": []
    },
    {
      "cell_type": "code",
      "metadata": {
        "id": "lUXaQ1wpjw9U",
        "colab_type": "code",
        "colab": {}
      },
      "source": [
        "def wordListToFreqDict(wordlist):\n",
        "    def sortFreqDict(freqdict):\n",
        "        aux = [(freqdict[key], key) for key in freqdict]\n",
        "        aux.sort()\n",
        "        aux.reverse()\n",
        "        return aux\n",
        "    wordfreq = [wordlist.count(p) for p in wordlist]\n",
        "    return sortFreqDict(dict(list(zip(wordlist,wordfreq))))"
      ],
      "execution_count": 0,
      "outputs": []
    },
    {
      "cell_type": "code",
      "metadata": {
        "id": "GNbO3HXwjw9f",
        "colab_type": "code",
        "colab": {}
      },
      "source": [
        "# %%time\n",
        "# wordListToFreqDict(df.code.to_string())"
      ],
      "execution_count": 0,
      "outputs": []
    },
    {
      "cell_type": "code",
      "metadata": {
        "id": "h7-lyPQDjw9o",
        "colab_type": "code",
        "colab": {}
      },
      "source": [
        "# %%time\n",
        "# nl2ml = pd.read_csv(KK_PATH + 'nl2ml.csv')\n",
        "# nl2ml = nl2ml.rename({'':'code_block', '':'method_tag'})\n",
        "# nl2ml_vis = nl2ml[nl2ml['method_tag'] == 'Visualization']\n",
        "# tokens_visualization = wordListToFreqDict(nl2ml_vis.code_block.to_string())"
      ],
      "execution_count": 0,
      "outputs": []
    },
    {
      "cell_type": "code",
      "metadata": {
        "id": "cgMUp6qVTiiE",
        "colab_type": "code",
        "outputId": "f31e3dfe-46af-4cc8-e4b7-916ffd54f0b7",
        "colab": {
          "base_uri": "https://localhost:8080/",
          "height": 54
        }
      },
      "source": [
        "df[CODE_COLUMN][0]"
      ],
      "execution_count": 11,
      "outputs": [
        {
          "output_type": "execute_result",
          "data": {
            "text/plain": [
              "'from mpl_toolkits.mplot3d import Axes3D\\nfrom sklearn.preprocessing import StandardScaler\\nimport matplotlib.pyplot as plt \\nimport numpy as np \\nimport os \\nimport pandas as pd \\n,metadata:{collapsed:false,_kg_hide-input:false},'"
            ]
          },
          "metadata": {
            "tags": []
          },
          "execution_count": 11
        }
      ]
    },
    {
      "cell_type": "code",
      "metadata": {
        "colab_type": "code",
        "id": "8DdGpT3GwvWo",
        "colab": {}
      },
      "source": [
        "def tokens_search(df, tokens, new_column_name):\n",
        "    df[new_column_name] = 0\n",
        "    for i in range(len(df)):\n",
        "        percents = str(round(100*i/len(df),1))\n",
        "        print(percents + '%\\r', end='')\n",
        "        row = df[CODE_COLUMN][i]\n",
        "        for token in tokens:\n",
        "            result = re.search(token, row)\n",
        "            if result!=None:\n",
        "                df[new_column_name][i] = 1\n",
        "                break\n",
        "    return df"
      ],
      "execution_count": 0,
      "outputs": []
    },
    {
      "cell_type": "markdown",
      "metadata": {
        "id": "BssLlwj4jw9-",
        "colab_type": "text"
      },
      "source": [
        "## Regex Labels"
      ]
    },
    {
      "cell_type": "code",
      "metadata": {
        "id": "DGlXzCKhjw-J",
        "colab_type": "code",
        "colab": {}
      },
      "source": [
        "graph = {'imports':['import', 'from']#, 'as']\n",
        "          ,'load_data':['load', 'csv', 'glob', 'pickle', 'read', 'download', 'txt']\n",
        "          ,'preprocessing':['preprocess', 'plot', 'heatmap', 'figure', 'encode', 'fill', 'merge', 'vectorize', 'generation', 'augmentation', 'stemming', 'lemmatization', 'scale', 'normalize', 'crop', 'convert', 'resize']\n",
        "          ,'model':['LinearRegression', 'RandomForest', 'Ridge', 'Lasso', 'SGD', 'LogisticRegression', 'SVM', 'SVC', 'Layer', 'xgboost', 'LGBM', 'CatBoost']\n",
        "          ,'train': ['train', 'fit', 'epoch', 'loss', 'learn', 'optimizer']\n",
        "          ,'predict':['predict', 'error', 'evaluation', 'MSE', 'Test']\n",
        "}"
      ],
      "execution_count": 0,
      "outputs": []
    },
    {
      "cell_type": "code",
      "metadata": {
        "id": "1TlTFwwHjw-t",
        "colab_type": "code",
        "outputId": "405f644b-b7e1-4890-fa34-4e87493fe72b",
        "colab": {
          "base_uri": "https://localhost:8080/",
          "height": 187
        }
      },
      "source": [
        "%%time\n",
        "for i in range(0, len(graph)):\n",
        "    print(i)\n",
        "    vertice = list(graph.keys())[i]\n",
        "    tokens = graph[vertice]\n",
        "    df = tokens_search(df, tokens, vertice)"
      ],
      "execution_count": 0,
      "outputs": [
        {
          "output_type": "stream",
          "text": [
            "0\n",
            "0.0%\r0.0%\r0.0%\r0.0%\r0.0%\r0.0%\r0.0%\r0.0%\r0.0%\r0.0%\r0.0%\r0.0%\r0.0%\r0.0%\r0.0%\r0.0%\r0.0%\r0.0%\r0.0%\r0.0%\r0.0%\r0.0%\r0.0%\r0.0%\r0.0%\r0.0%\r0.0%\r0.0%\r0.0%\r0.0%\r0.0%\r0.0%\r0.0%\r0.0%\r0.0%\r0.0%\r0.0%\r0.0%\r0.0%\r0.0%\r0.0%\r0.0%\r0.0%\r0.0%\r0.0%\r0.0%\r0.0%\r0.0%\r0.0%\r0.0%\r0.0%\r0.0%\r0.0%\r0.0%\r0.0%\r0.0%\r0.0%\r0.0%\r0.0%\r0.0%\r0.0%\r0.0%\r0.0%\r0.0%\r0.0%\r0.0%\r0.0%\r0.0%\r0.0%\r0.0%\r0.0%\r0.0%\r0.0%\r0.0%\r0.0%\r0.0%\r0.0%\r0.0%\r0.0%\r0.0%\r0.0%\r0.0%\r0.0%\r0.0%\r0.0%\r0.0%\r0.0%\r0.0%\r0.0%\r0.0%\r0.0%\r0.0%\r0.0%\r0.0%\r0.0%\r0.0%\r0.0%\r0.0%\r0.0%\r0.0%\r0.0%\r0.0%\r0.0%\r0.0%\r0.0%\r0.0%\r0.0%\r0.0%\r0.0%\r0.0%\r0.0%\r0.1%\r0.1%\r0.1%\r0.1%\r0.1%\r0.1%\r0.1%\r0.1%\r0.1%\r0.1%\r0.1%\r0.1%\r0.1%\r0.1%\r0.1%\r0.1%\r0.1%\r0.1%\r0.1%\r0.1%\r0.1%\r0.1%\r0.1%\r0.1%\r0.1%\r0.1%\r0.1%\r0.1%\r0.1%\r0.1%\r0.1%\r0.1%\r0.1%\r0.1%\r0.1%\r0.1%\r0.1%\r0.1%\r0.1%\r0.1%\r0.1%\r0.1%\r0.1%\r0.1%\r0.1%\r0.1%\r0.1%\r0.1%\r0.1%\r0.1%\r0.1%\r0.1%\r0.1%\r0.1%\r0.1%\r0.1%\r0.1%\r0.1%\r0.1%\r0.1%\r0.1%\r0.1%\r0.1%\r0.1%\r0.1%\r0.1%\r0.1%\r0.1%\r0.1%\r0.1%\r0.1%\r0.1%\r0.1%\r0.1%\r0.1%\r0.1%\r0.1%\r0.1%\r0.1%\r0.1%\r0.1%\r0.1%\r0.1%\r0.1%\r0.1%\r0.1%\r0.1%\r0.1%\r0.1%\r0.1%\r0.1%\r0.1%\r0.1%\r0.1%\r0.1%\r0.1%\r0.1%\r0.1%\r0.1%\r0.1%\r0.1%\r0.1%\r0.1%\r0.1%\r0.1%\r0.1%\r0.1%\r0.1%\r0.1%\r0.1%\r0.1%\r0.1%\r0.1%\r0.1%\r0.1%\r0.1%\r0.1%\r0.1%\r0.1%\r0.1%\r0.1%\r0.1%\r0.1%\r0.1%\r0.1%\r0.1%\r0.1%\r0.1%\r0.1%\r0.1%\r0.1%\r0.1%\r0.1%\r0.1%\r0.1%\r0.1%\r0.1%\r0.1%\r0.1%\r0.1%\r0.1%\r0.1%\r0.1%\r0.1%\r0.1%\r0.1%\r0.1%\r0.1%\r0.1%\r0.1%\r0.1%\r0.1%\r0.1%\r0.1%\r0.1%\r0.1%\r0.1%\r0.1%\r0.1%\r0.1%\r0.1%\r0.1%\r0.1%\r0.1%\r0.1%\r0.1%\r0.1%\r0.1%\r0.1%\r0.1%\r0.1%\r0.1%\r0.1%\r0.1%\r0.1%\r0.1%\r0.1%\r0.1%\r0.1%\r0.1%\r0.1%\r0.1%\r0.1%\r0.1%\r0.1%\r0.1%\r0.1%\r0.1%\r0.1%\r0.1%\r0.1%\r0.1%\r0.1%\r0.1%\r0.1%\r0.1%\r0.1%\r0.1%\r0.1%\r0.1%\r0.1%\r0.1%\r0.1%\r0.1%\r0.1%\r0.1%\r0.1%\r0.1%\r0.1%\r0.1%\r0.1%\r0.1%\r0.1%\r0.1%\r0.1%\r0.1%\r0.1%\r0.1%\r0.1%\r0.1%\r0.1%\r0.1%\r0.2%\r0.2%\r0.2%\r0.2%\r0.2%\r0.2%\r0.2%\r0.2%\r0.2%\r0.2%\r0.2%\r0.2%\r0.2%\r0.2%\r0.2%\r0.2%\r0.2%\r0.2%\r0.2%\r0.2%\r0.2%\r0.2%\r0.2%\r0.2%\r0.2%\r0.2%\r0.2%\r0.2%\r0.2%\r0.2%\r0.2%\r0.2%\r0.2%\r0.2%\r0.2%\r0.2%\r0.2%\r0.2%\r0.2%\r0.2%\r0.2%\r0.2%\r0.2%\r0.2%\r0.2%\r0.2%\r0.2%\r0.2%\r0.2%\r0.2%\r0.2%\r0.2%\r0.2%\r0.2%\r0.2%\r0.2%\r0.2%\r0.2%\r0.2%\r0.2%\r0.2%\r0.2%\r0.2%\r0.2%\r0.2%\r0.2%\r0.2%\r0.2%\r0.2%\r0.2%\r0.2%\r0.2%\r0.2%\r0.2%\r0.2%\r0.2%\r0.2%\r0.2%\r0.2%\r0.2%\r0.2%\r0.2%\r0.2%\r0.2%\r0.2%\r0.2%\r0.2%\r0.2%\r0.2%\r0.2%\r0.2%\r0.2%\r0.2%\r0.2%\r0.2%\r0.2%\r0.2%\r0.2%\r0.2%\r0.2%\r0.2%\r0.2%\r0.2%\r0.2%\r0.2%\r0.2%\r0.2%\r0.2%\r0.2%\r0.2%\r0.2%\r0.2%\r0.2%\r0.2%\r0.2%\r0.2%\r0.2%\r0.2%\r0.2%\r0.2%\r0.2%\r0.2%\r0.2%\r0.2%\r0.2%\r0.2%\r0.2%\r0.2%\r0.2%\r0.2%\r0.2%\r0.2%\r0.2%\r0.2%\r0.2%\r0.2%\r0.2%\r0.2%\r0.2%\r0.2%\r0.2%\r0.2%\r0.2%\r0.2%\r0.2%\r0.2%\r0.2%\r0.2%\r0.2%\r0.2%\r0.2%\r0.2%\r0.2%\r0.2%\r0.2%\r0.2%\r0.2%\r0.2%\r0.2%\r0.2%\r0.2%\r0.2%\r0.2%\r0.2%\r0.2%\r0.2%\r0.2%\r0.2%\r0.2%\r0.2%\r0.2%\r0.2%\r0.2%\r0.2%\r0.2%\r0.2%\r0.2%\r0.2%\r0.2%\r0.2%\r0.2%\r0.2%\r0.2%\r0.2%\r0.2%\r0.2%\r0.2%\r0.2%\r0.2%\r0.2%\r0.2%\r0.2%\r0.2%\r0.2%\r0.2%\r0.2%\r0.2%\r0.2%\r0.2%\r0.2%\r0.2%\r0.2%\r0.2%\r0.2%\r0.2%\r0.2%\r0.2%\r0.2%\r0.2%\r0.2%\r0.2%\r0.2%\r0.2%\r0.2%\r0.2%\r0.2%\r0.2%\r0.2%\r0.2%\r0.2%\r0.2%\r0.2%\r0.3%\r0.3%\r0.3%\r0.3%\r0.3%\r0.3%\r0.3%\r0.3%\r0.3%\r0.3%\r0.3%\r0.3%\r0.3%\r0.3%\r0.3%\r0.3%\r0.3%\r0.3%\r0.3%\r0.3%\r0.3%\r0.3%\r0.3%\r0.3%\r0.3%\r0.3%\r0.3%\r0.3%\r0.3%\r0.3%\r0.3%\r0.3%\r0.3%\r0.3%\r0.3%\r0.3%\r0.3%\r0.3%\r0.3%\r0.3%\r0.3%\r0.3%\r0.3%\r0.3%\r0.3%\r0.3%\r0.3%\r0.3%\r0.3%\r0.3%\r0.3%\r0.3%\r0.3%\r0.3%\r0.3%\r0.3%\r0.3%\r0.3%\r0.3%\r0.3%\r0.3%\r0.3%\r0.3%\r0.3%\r0.3%\r0.3%\r0.3%\r0.3%\r0.3%\r0.3%\r0.3%\r0.3%\r0.3%\r0.3%\r0.3%\r0.3%\r0.3%\r0.3%\r0.3%\r0.3%\r0.3%\r0.3%\r0.3%\r0.3%\r0.3%\r0.3%\r0.3%\r0.3%\r0.3%\r0.3%\r0.3%\r0.3%\r0.3%\r0.3%\r0.3%\r0.3%\r0.3%\r0.3%\r0.3%\r0.3%\r0.3%\r0.3%\r0.3%\r0.3%\r0.3%\r0.3%\r0.3%\r0.3%\r0.3%\r0.3%\r0.3%\r0.3%\r0.3%\r0.3%\r0.3%\r0.3%\r0.3%\r0.3%\r0.3%\r0.3%\r0.3%\r0.3%\r0.3%\r0.3%\r0.3%\r0.3%\r0.3%\r0.3%\r0.3%\r0.3%\r0.3%\r0.3%\r0.3%\r0.3%\r0.3%\r0.3%\r0.3%\r0.3%\r0.3%\r0.3%\r0.3%\r0.3%\r0.3%\r0.3%\r0.3%\r0.3%\r0.3%\r0.3%\r0.3%\r0.3%\r0.3%\r0.3%\r0.3%\r0.3%\r0.3%\r0.3%\r0.3%\r0.3%\r0.3%\r0.3%\r0.3%\r0.3%\r0.3%\r0.3%\r0.3%\r0.3%\r0.3%\r0.3%\r0.3%\r0.3%\r0.3%\r0.3%\r0.3%\r0.3%\r0.3%\r0.3%\r0.3%\r0.3%\r0.3%\r0.3%\r0.3%\r0.3%\r0.3%\r0.3%\r0.3%\r0.3%\r0.3%\r0.3%\r0.3%\r0.3%\r0.3%\r0.3%\r0.3%\r0.3%\r0.3%\r0.3%\r0.3%\r0.3%\r0.3%\r0.3%\r0.3%\r0.3%\r0.3%\r0.3%\r0.3%\r0.3%\r0.3%\r0.3%\r0.3%\r0.3%\r0.3%\r0.3%\r0.3%\r0.3%\r0.3%\r0.3%\r0.3%\r0.3%\r0.3%\r0.3%\r0.3%\r0.3%\r0.4%\r0.4%\r0.4%\r0.4%\r0.4%\r0.4%\r0.4%\r0.4%\r0.4%\r0.4%\r0.4%\r0.4%\r0.4%\r0.4%\r0.4%\r0.4%\r0.4%\r0.4%\r0.4%\r0.4%\r0.4%\r0.4%\r0.4%\r0.4%\r0.4%\r0.4%\r0.4%\r0.4%\r0.4%\r0.4%\r0.4%\r0.4%\r0.4%\r0.4%\r0.4%\r0.4%\r0.4%\r0.4%\r0.4%\r0.4%\r0.4%\r0.4%\r0.4%\r0.4%\r0.4%\r0.4%\r0.4%\r0.4%\r0.4%\r0.4%\r0.4%\r0.4%\r0.4%\r0.4%\r0.4%\r0.4%\r0.4%\r0.4%\r0.4%\r0.4%\r0.4%\r0.4%\r0.4%\r0.4%\r0.4%\r0.4%\r0.4%\r0.4%\r0.4%\r0.4%\r0.4%\r0.4%\r0.4%\r0.4%\r0.4%\r0.4%\r0.4%\r0.4%\r0.4%\r0.4%\r0.4%\r0.4%\r0.4%\r0.4%\r0.4%\r0.4%\r0.4%\r0.4%\r0.4%\r0.4%\r0.4%\r0.4%\r0.4%\r0.4%\r0.4%\r0.4%\r0.4%\r0.4%\r0.4%\r0.4%\r0.4%\r0.4%\r0.4%\r0.4%\r0.4%\r0.4%\r0.4%\r"
          ],
          "name": "stdout"
        },
        {
          "output_type": "stream",
          "text": [
            "/usr/local/lib/python3.6/dist-packages/ipykernel_launcher.py:10: SettingWithCopyWarning: \n",
            "A value is trying to be set on a copy of a slice from a DataFrame\n",
            "\n",
            "See the caveats in the documentation: https://pandas.pydata.org/pandas-docs/stable/user_guide/indexing.html#returning-a-view-versus-a-copy\n",
            "  # Remove the CWD from sys.path while we load stuff.\n"
          ],
          "name": "stderr"
        },
        {
          "output_type": "stream",
          "text": [
            "1\n",
            "2\n",
            "3\n",
            "4\n"
          ],
          "name": "stdout"
        }
      ]
    },
    {
      "cell_type": "code",
      "metadata": {
        "id": "zQuwy7Exjw_D",
        "colab_type": "code",
        "colab": {}
      },
      "source": [
        "df.to_csv(NEW_DATASET_PATH, index=False)"
      ],
      "execution_count": 0,
      "outputs": []
    },
    {
      "cell_type": "code",
      "metadata": {
        "id": "xWYhQybHUZEj",
        "colab_type": "code",
        "colab": {}
      },
      "source": [
        "# for col in list(graph.keys()):\n",
        "#     display(df[df['Data format'] == 'Table'][col].value_counts())"
      ],
      "execution_count": 0,
      "outputs": []
    },
    {
      "cell_type": "markdown",
      "metadata": {
        "id": "sZWJu_w-jw_M",
        "colab_type": "text"
      },
      "source": [
        "#### Tag: Import-Output"
      ]
    },
    {
      "cell_type": "code",
      "metadata": {
        "colab_type": "code",
        "id": "1VhsSVhWj1Wx",
        "colab": {}
      },
      "source": [
        "# # TAG: input_output\n",
        "# tokens_io = ['read', 'csv' , 'sql' , 'json' , 'png' , 'jpg' ,\n",
        "#           'tsv' , 'write' , 'open' , 'print' , 'output' ,\n",
        "#           'stdin' , 'stdout' , 'path' , 'dir'\n",
        "# #            , 'import'\n",
        "#           ]"
      ],
      "execution_count": 0,
      "outputs": []
    },
    {
      "cell_type": "code",
      "metadata": {
        "scrolled": true,
        "id": "oIYzl0Bwjw_U",
        "colab_type": "code",
        "colab": {}
      },
      "source": [
        "# %%time\n",
        "# df = tokens_search(df, tokens_io, 'tag_import_output')"
      ],
      "execution_count": 0,
      "outputs": []
    },
    {
      "cell_type": "code",
      "metadata": {
        "id": "diTbzz9Sjw_c",
        "colab_type": "code",
        "colab": {}
      },
      "source": [
        "# df.to_csv(KK_PATH + 'chunks_30_tag_io.csv', index=False)"
      ],
      "execution_count": 0,
      "outputs": []
    },
    {
      "cell_type": "markdown",
      "metadata": {
        "id": "cPT_98Utjw_s",
        "colab_type": "text"
      },
      "source": [
        "#### Tag: Visualization"
      ]
    },
    {
      "cell_type": "code",
      "metadata": {
        "id": "_rd3Pel4jw_t",
        "colab_type": "code",
        "colab": {}
      },
      "source": [
        "# tokens_visualization = ['plot', 'hist', 'sns.', 'plt.']"
      ],
      "execution_count": 0,
      "outputs": []
    },
    {
      "cell_type": "code",
      "metadata": {
        "id": "F_D1XekBjw_y",
        "colab_type": "code",
        "colab": {}
      },
      "source": [
        "# %%time\n",
        "# df = tokens_search(df, tokens_visualization, 'tag_visualization')"
      ],
      "execution_count": 0,
      "outputs": []
    },
    {
      "cell_type": "code",
      "metadata": {
        "id": "TmhBqcjSjw_8",
        "colab_type": "code",
        "colab": {}
      },
      "source": [
        "# df.to_csv(KK_PATH + 'chunks_30_tags.csv', index=False)"
      ],
      "execution_count": 0,
      "outputs": []
    },
    {
      "cell_type": "markdown",
      "metadata": {
        "id": "lbCPRMjSjxAD",
        "colab_type": "text"
      },
      "source": [
        "### TF-IDF + Log Reg"
      ]
    },
    {
      "cell_type": "code",
      "metadata": {
        "id": "JmoK6H0hjxAE",
        "colab_type": "code",
        "colab": {}
      },
      "source": [
        "import pandas as pd\n",
        "import numpy as np\n",
        "import matplotlib.pyplot as plt"
      ],
      "execution_count": 0,
      "outputs": []
    },
    {
      "cell_type": "code",
      "metadata": {
        "id": "nr3jj2uujxAO",
        "colab_type": "code",
        "colab": {}
      },
      "source": [
        "df = pd.read_csv(NEW_DATASET_PATH)"
      ],
      "execution_count": 0,
      "outputs": []
    },
    {
      "cell_type": "code",
      "metadata": {
        "id": "WhVKLqZBykyu",
        "colab_type": "code",
        "colab": {}
      },
      "source": [
        "df.shape"
      ],
      "execution_count": 0,
      "outputs": []
    },
    {
      "cell_type": "code",
      "metadata": {
        "id": "TDLwm5UPjxAX",
        "colab_type": "code",
        "colab": {}
      },
      "source": [
        "corpus = df[CODE_COLUMN]\n",
        "test_size = 0.1\n",
        "test_rows = round(df.shape[0]*test_size)\n",
        "train_rows = df.shape[0] - test_rows\n",
        "train_corpus = df[CODE_COLUMN][0:test_rows]\n",
        "test_corpus = df[CODE_COLUMN][train_rows:]\n",
        "tag_to_predict = 'preprocessing'"
      ],
      "execution_count": 0,
      "outputs": []
    },
    {
      "cell_type": "code",
      "metadata": {
        "id": "rkZxucYdjxAd",
        "colab_type": "code",
        "colab": {}
      },
      "source": [
        "from sklearn.feature_extraction.text import TfidfVectorizer\n",
        "\n",
        "tfidf = TfidfVectorizer(min_df=5\n",
        "                        , max_df = 0.3\n",
        "                        , ngram_range = (1,2)\n",
        "                        , smooth_idf = True\n",
        "                       )\n",
        "features = tfidf.fit_transform(corpus)\n",
        "# for_pred = tfidf.transform(test_corpus)"
      ],
      "execution_count": 0,
      "outputs": []
    },
    {
      "cell_type": "code",
      "metadata": {
        "id": "-clcrT5-jxAl",
        "colab_type": "code",
        "colab": {}
      },
      "source": [
        "%%time\n",
        "from sklearn.linear_model import LogisticRegression\n",
        "from sklearn.model_selection import train_test_split\n",
        "from sklearn import metrics\n",
        "\n",
        "X_train, X_test, y_train, y_test = train_test_split(features[0:len(df[tag_to_predict])], df[tag_to_predict], test_size=0.25)\n",
        "clf = LogisticRegression(random_state=4321).fit(X_train, y_train)\n",
        "clf.fit(X_train, y_train)\n",
        "y_pred = clf.predict(X_test)\n",
        "accuracy = clf.score(X_test, y_test)\n",
        "print(f'Mean Accuracy {round(accuracy*100, 2)}%')\n",
        "print(f'F1-score {round(metrics.f1_score(y_pred, y_test)*100, 2)}%')"
      ],
      "execution_count": 0,
      "outputs": []
    },
    {
      "cell_type": "code",
      "metadata": {
        "id": "Yy4P-YwhjxAw",
        "colab_type": "code",
        "colab": {}
      },
      "source": [
        "metrics.plot_precision_recall_curve(clf, X_test, y_test)"
      ],
      "execution_count": 0,
      "outputs": []
    },
    {
      "cell_type": "code",
      "metadata": {
        "scrolled": true,
        "id": "gwK-MPYWjxBP",
        "colab_type": "code",
        "colab": {}
      },
      "source": [
        "metrics.plot_confusion_matrix(clf, X_test, y_test, values_format='d')"
      ],
      "execution_count": 0,
      "outputs": []
    }
  ]
}